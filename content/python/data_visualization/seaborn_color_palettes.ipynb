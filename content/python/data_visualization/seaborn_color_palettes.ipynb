{
 "cells": [
  {
   "cell_type": "raw",
   "metadata": {},
   "source": [
    "---\n",
    "title: \"Color Palettes in Seaborn\"\n",
    "author: \"Chris Albon\"\n",
    "date: 2017-12-20T11:53:49-07:00\n",
    "description: \"Color palettes in Seaborn.\"\n",
    "type: technical_note\n",
    "draft: false\n",
    "---"
   ]
  },
  {
   "cell_type": "markdown",
   "metadata": {},
   "source": [
    "## Preliminaries"
   ]
  },
  {
   "cell_type": "code",
   "execution_count": 1,
   "metadata": {},
   "outputs": [],
   "source": [
    "import pandas as pd\n",
    "%matplotlib inline\n",
    "import matplotlib.pyplot as plt\n",
    "import seaborn as sns"
   ]
  },
  {
   "cell_type": "code",
   "execution_count": 30,
   "metadata": {},
   "outputs": [
    {
     "data": {
      "text/html": [
       "<div>\n",
       "<style scoped>\n",
       "    .dataframe tbody tr th:only-of-type {\n",
       "        vertical-align: middle;\n",
       "    }\n",
       "\n",
       "    .dataframe tbody tr th {\n",
       "        vertical-align: top;\n",
       "    }\n",
       "\n",
       "    .dataframe thead th {\n",
       "        text-align: right;\n",
       "    }\n",
       "</style>\n",
       "<table border=\"1\" class=\"dataframe\">\n",
       "  <thead>\n",
       "    <tr style=\"text-align: right;\">\n",
       "      <th></th>\n",
       "      <th>date</th>\n",
       "      <th>battle_deaths</th>\n",
       "      <th>deaths_regiment_1</th>\n",
       "      <th>deaths_regiment_2</th>\n",
       "      <th>deaths_regiment_3</th>\n",
       "      <th>deaths_regiment_4</th>\n",
       "      <th>deaths_regiment_5</th>\n",
       "      <th>deaths_regiment_6</th>\n",
       "      <th>deaths_regiment_7</th>\n",
       "    </tr>\n",
       "    <tr>\n",
       "      <th>date</th>\n",
       "      <th></th>\n",
       "      <th></th>\n",
       "      <th></th>\n",
       "      <th></th>\n",
       "      <th></th>\n",
       "      <th></th>\n",
       "      <th></th>\n",
       "      <th></th>\n",
       "      <th></th>\n",
       "    </tr>\n",
       "  </thead>\n",
       "  <tbody>\n",
       "    <tr>\n",
       "      <th>2014-05-01 18:47:05.069722</th>\n",
       "      <td>2014-05-01 18:47:05.069722</td>\n",
       "      <td>NaN</td>\n",
       "      <td>34</td>\n",
       "      <td>52</td>\n",
       "      <td>13</td>\n",
       "      <td>44</td>\n",
       "      <td>25</td>\n",
       "      <td>84</td>\n",
       "      <td>46</td>\n",
       "    </tr>\n",
       "    <tr>\n",
       "      <th>2014-05-01 18:47:05.119994</th>\n",
       "      <td>2014-05-01 18:47:05.119994</td>\n",
       "      <td>NaN</td>\n",
       "      <td>43</td>\n",
       "      <td>66</td>\n",
       "      <td>73</td>\n",
       "      <td>75</td>\n",
       "      <td>24</td>\n",
       "      <td>84</td>\n",
       "      <td>57</td>\n",
       "    </tr>\n",
       "    <tr>\n",
       "      <th>2014-05-02 18:47:05.178768</th>\n",
       "      <td>2014-05-02 18:47:05.178768</td>\n",
       "      <td>NaN</td>\n",
       "      <td>14</td>\n",
       "      <td>78</td>\n",
       "      <td>82</td>\n",
       "      <td>26</td>\n",
       "      <td>25</td>\n",
       "      <td>26</td>\n",
       "      <td>26</td>\n",
       "    </tr>\n",
       "    <tr>\n",
       "      <th>2014-05-02 18:47:05.230071</th>\n",
       "      <td>2014-05-02 18:47:05.230071</td>\n",
       "      <td>NaN</td>\n",
       "      <td>15</td>\n",
       "      <td>15</td>\n",
       "      <td>58</td>\n",
       "      <td>15</td>\n",
       "      <td>15</td>\n",
       "      <td>15</td>\n",
       "      <td>15</td>\n",
       "    </tr>\n",
       "    <tr>\n",
       "      <th>2014-05-02 18:47:05.230071</th>\n",
       "      <td>2014-05-02 18:47:05.230071</td>\n",
       "      <td>NaN</td>\n",
       "      <td>15</td>\n",
       "      <td>15</td>\n",
       "      <td>52</td>\n",
       "      <td>15</td>\n",
       "      <td>57</td>\n",
       "      <td>15</td>\n",
       "      <td>15</td>\n",
       "    </tr>\n",
       "    <tr>\n",
       "      <th>2014-05-02 18:47:05.280592</th>\n",
       "      <td>2014-05-02 18:47:05.280592</td>\n",
       "      <td>NaN</td>\n",
       "      <td>14</td>\n",
       "      <td>5</td>\n",
       "      <td>87</td>\n",
       "      <td>14</td>\n",
       "      <td>68</td>\n",
       "      <td>14</td>\n",
       "      <td>14</td>\n",
       "    </tr>\n",
       "    <tr>\n",
       "      <th>2014-05-03 18:47:05.332662</th>\n",
       "      <td>2014-05-03 18:47:05.332662</td>\n",
       "      <td>NaN</td>\n",
       "      <td>31</td>\n",
       "      <td>25</td>\n",
       "      <td>26</td>\n",
       "      <td>54</td>\n",
       "      <td>21</td>\n",
       "      <td>26</td>\n",
       "      <td>26</td>\n",
       "    </tr>\n",
       "    <tr>\n",
       "      <th>2014-05-03 18:47:05.385109</th>\n",
       "      <td>2014-05-03 18:47:05.385109</td>\n",
       "      <td>NaN</td>\n",
       "      <td>25</td>\n",
       "      <td>25</td>\n",
       "      <td>5</td>\n",
       "      <td>25</td>\n",
       "      <td>27</td>\n",
       "      <td>25</td>\n",
       "      <td>25</td>\n",
       "    </tr>\n",
       "    <tr>\n",
       "      <th>2014-05-04 18:47:05.436523</th>\n",
       "      <td>2014-05-04 18:47:05.436523</td>\n",
       "      <td>NaN</td>\n",
       "      <td>62</td>\n",
       "      <td>86</td>\n",
       "      <td>56</td>\n",
       "      <td>24</td>\n",
       "      <td>62</td>\n",
       "      <td>62</td>\n",
       "      <td>62</td>\n",
       "    </tr>\n",
       "    <tr>\n",
       "      <th>2014-05-04 18:47:05.486877</th>\n",
       "      <td>2014-05-04 18:47:05.486877</td>\n",
       "      <td>NaN</td>\n",
       "      <td>41</td>\n",
       "      <td>1</td>\n",
       "      <td>75</td>\n",
       "      <td>72</td>\n",
       "      <td>5</td>\n",
       "      <td>24</td>\n",
       "      <td>41</td>\n",
       "    </tr>\n",
       "  </tbody>\n",
       "</table>\n",
       "</div>"
      ],
      "text/plain": [
       "                                                  date battle_deaths  \\\n",
       "date                                                                   \n",
       "2014-05-01 18:47:05.069722  2014-05-01 18:47:05.069722           NaN   \n",
       "2014-05-01 18:47:05.119994  2014-05-01 18:47:05.119994           NaN   \n",
       "2014-05-02 18:47:05.178768  2014-05-02 18:47:05.178768           NaN   \n",
       "2014-05-02 18:47:05.230071  2014-05-02 18:47:05.230071           NaN   \n",
       "2014-05-02 18:47:05.230071  2014-05-02 18:47:05.230071           NaN   \n",
       "2014-05-02 18:47:05.280592  2014-05-02 18:47:05.280592           NaN   \n",
       "2014-05-03 18:47:05.332662  2014-05-03 18:47:05.332662           NaN   \n",
       "2014-05-03 18:47:05.385109  2014-05-03 18:47:05.385109           NaN   \n",
       "2014-05-04 18:47:05.436523  2014-05-04 18:47:05.436523           NaN   \n",
       "2014-05-04 18:47:05.486877  2014-05-04 18:47:05.486877           NaN   \n",
       "\n",
       "                            deaths_regiment_1  deaths_regiment_2  \\\n",
       "date                                                               \n",
       "2014-05-01 18:47:05.069722                 34                 52   \n",
       "2014-05-01 18:47:05.119994                 43                 66   \n",
       "2014-05-02 18:47:05.178768                 14                 78   \n",
       "2014-05-02 18:47:05.230071                 15                 15   \n",
       "2014-05-02 18:47:05.230071                 15                 15   \n",
       "2014-05-02 18:47:05.280592                 14                  5   \n",
       "2014-05-03 18:47:05.332662                 31                 25   \n",
       "2014-05-03 18:47:05.385109                 25                 25   \n",
       "2014-05-04 18:47:05.436523                 62                 86   \n",
       "2014-05-04 18:47:05.486877                 41                  1   \n",
       "\n",
       "                            deaths_regiment_3  deaths_regiment_4  \\\n",
       "date                                                               \n",
       "2014-05-01 18:47:05.069722                 13                 44   \n",
       "2014-05-01 18:47:05.119994                 73                 75   \n",
       "2014-05-02 18:47:05.178768                 82                 26   \n",
       "2014-05-02 18:47:05.230071                 58                 15   \n",
       "2014-05-02 18:47:05.230071                 52                 15   \n",
       "2014-05-02 18:47:05.280592                 87                 14   \n",
       "2014-05-03 18:47:05.332662                 26                 54   \n",
       "2014-05-03 18:47:05.385109                  5                 25   \n",
       "2014-05-04 18:47:05.436523                 56                 24   \n",
       "2014-05-04 18:47:05.486877                 75                 72   \n",
       "\n",
       "                            deaths_regiment_5  deaths_regiment_6  \\\n",
       "date                                                               \n",
       "2014-05-01 18:47:05.069722                 25                 84   \n",
       "2014-05-01 18:47:05.119994                 24                 84   \n",
       "2014-05-02 18:47:05.178768                 25                 26   \n",
       "2014-05-02 18:47:05.230071                 15                 15   \n",
       "2014-05-02 18:47:05.230071                 57                 15   \n",
       "2014-05-02 18:47:05.280592                 68                 14   \n",
       "2014-05-03 18:47:05.332662                 21                 26   \n",
       "2014-05-03 18:47:05.385109                 27                 25   \n",
       "2014-05-04 18:47:05.436523                 62                 62   \n",
       "2014-05-04 18:47:05.486877                  5                 24   \n",
       "\n",
       "                            deaths_regiment_7  \n",
       "date                                           \n",
       "2014-05-01 18:47:05.069722                 46  \n",
       "2014-05-01 18:47:05.119994                 57  \n",
       "2014-05-02 18:47:05.178768                 26  \n",
       "2014-05-02 18:47:05.230071                 15  \n",
       "2014-05-02 18:47:05.230071                 15  \n",
       "2014-05-02 18:47:05.280592                 14  \n",
       "2014-05-03 18:47:05.332662                 26  \n",
       "2014-05-03 18:47:05.385109                 25  \n",
       "2014-05-04 18:47:05.436523                 62  \n",
       "2014-05-04 18:47:05.486877                 41  "
      ]
     },
     "execution_count": 30,
     "metadata": {},
     "output_type": "execute_result"
    }
   ],
   "source": [
    "data = {'date': ['2014-05-01 18:47:05.069722', '2014-05-01 18:47:05.119994', '2014-05-02 18:47:05.178768', '2014-05-02 18:47:05.230071', '2014-05-02 18:47:05.230071', '2014-05-02 18:47:05.280592', '2014-05-03 18:47:05.332662', '2014-05-03 18:47:05.385109', '2014-05-04 18:47:05.436523', '2014-05-04 18:47:05.486877'], \n",
    "        'deaths_regiment_1': [34, 43, 14, 15, 15, 14, 31, 25, 62, 41],\n",
    "        'deaths_regiment_2': [52, 66, 78, 15, 15, 5, 25, 25, 86, 1],\n",
    "        'deaths_regiment_3': [13, 73, 82, 58, 52, 87, 26, 5, 56, 75],\n",
    "        'deaths_regiment_4': [44, 75, 26, 15, 15, 14, 54, 25, 24, 72],\n",
    "        'deaths_regiment_5': [25, 24, 25, 15, 57, 68, 21, 27, 62, 5],\n",
    "        'deaths_regiment_6': [84, 84, 26, 15, 15, 14, 26, 25, 62, 24],\n",
    "        'deaths_regiment_7': [46, 57, 26, 15, 15, 14, 26, 25, 62, 41]}\n",
    "df = pd.DataFrame(data, columns = ['date', 'battle_deaths', 'deaths_regiment_1', 'deaths_regiment_2',\n",
    "                                   'deaths_regiment_3', 'deaths_regiment_4', 'deaths_regiment_5',\n",
    "                                   'deaths_regiment_6', 'deaths_regiment_7'])\n",
    "df = df.set_index(df.date)\n",
    "df"
   ]
  },
  {
   "cell_type": "markdown",
   "metadata": {},
   "source": [
    "## View some color palettes"
   ]
  },
  {
   "cell_type": "code",
   "execution_count": 3,
   "metadata": {},
   "outputs": [
    {
     "data": {
      "image/png": "[encoded data removed]",
      "text/plain": [
       "<Figure size 720x72 with 1 Axes>"
      ]
     },
     "metadata": {},
     "output_type": "display_data"
    }
   ],
   "source": [
    "sns.palplot(sns.color_palette(\"deep\", 10))"
   ]
  },
  {
   "cell_type": "code",
   "execution_count": 4,
   "metadata": {},
   "outputs": [
    {
     "data": {
      "image/png": "[encoded data removed]",
      "text/plain": [
       "<Figure size 720x72 with 1 Axes>"
      ]
     },
     "metadata": {},
     "output_type": "display_data"
    }
   ],
   "source": [
    "sns.palplot(sns.color_palette(\"muted\", 10))"
   ]
  },
  {
   "cell_type": "code",
   "execution_count": 5,
   "metadata": {},
   "outputs": [
    {
     "data": {
      "image/png": "[encoded data removed]",
      "text/plain": [
       "<Figure size 720x72 with 1 Axes>"
      ]
     },
     "metadata": {},
     "output_type": "display_data"
    }
   ],
   "source": [
    "sns.palplot(sns.color_palette(\"bright\", 10))"
   ]
  },
  {
   "cell_type": "code",
   "execution_count": 6,
   "metadata": {},
   "outputs": [
    {
     "data": {
      "image/png": "[encoded data removed]",
      "text/plain": [
       "<Figure size 720x72 with 1 Axes>"
      ]
     },
     "metadata": {},
     "output_type": "display_data"
    }
   ],
   "source": [
    "sns.palplot(sns.color_palette(\"dark\", 10))"
   ]
  },
  {
   "cell_type": "code",
   "execution_count": 7,
   "metadata": {},
   "outputs": [
    {
     "data": {
      "image/png": "[encoded data removed]",
      "text/plain": [
       "<Figure size 720x72 with 1 Axes>"
      ]
     },
     "metadata": {},
     "output_type": "display_data"
    }
   ],
   "source": [
    "sns.palplot(sns.color_palette(\"colorblind\", 10))"
   ]
  },
  {
   "cell_type": "code",
   "execution_count": 8,
   "metadata": {},
   "outputs": [
    {
     "data": {
      "image/png": "[encoded data removed]",
      "text/plain": [
       "<Figure size 720x72 with 1 Axes>"
      ]
     },
     "metadata": {},
     "output_type": "display_data"
    }
   ],
   "source": [
    "sns.palplot(sns.color_palette(\"Paired\", 10))"
   ]
  },
  {
   "cell_type": "code",
   "execution_count": 9,
   "metadata": {},
   "outputs": [
    {
     "data": {
      "image/png": "[encoded data removed]",
      "text/plain": [
       "<Figure size 720x72 with 1 Axes>"
      ]
     },
     "metadata": {},
     "output_type": "display_data"
    }
   ],
   "source": [
    "sns.palplot(sns.color_palette(\"BuGn\", 10))"
   ]
  },
  {
   "cell_type": "code",
   "execution_count": 10,
   "metadata": {},
   "outputs": [
    {
     "data": {
      "image/png": "[encoded data removed]",
      "text/plain": [
       "<Figure size 720x72 with 1 Axes>"
      ]
     },
     "metadata": {},
     "output_type": "display_data"
    }
   ],
   "source": [
    "sns.palplot(sns.color_palette(\"GnBu\", 10))"
   ]
  },
  {
   "cell_type": "code",
   "execution_count": 11,
   "metadata": {},
   "outputs": [
    {
     "data": {
      "image/png": "[encoded data removed]",
      "text/plain": [
       "<Figure size 720x72 with 1 Axes>"
      ]
     },
     "metadata": {},
     "output_type": "display_data"
    }
   ],
   "source": [
    "sns.palplot(sns.color_palette(\"OrRd\", 10))"
   ]
  },
  {
   "cell_type": "code",
   "execution_count": 12,
   "metadata": {},
   "outputs": [
    {
     "data": {
      "image/png": "[encoded data removed]",
      "text/plain": [
       "<Figure size 720x72 with 1 Axes>"
      ]
     },
     "metadata": {},
     "output_type": "display_data"
    }
   ],
   "source": [
    "sns.palplot(sns.color_palette(\"PuBu\", 10))"
   ]
  },
  {
   "cell_type": "code",
   "execution_count": 13,
   "metadata": {},
   "outputs": [
    {
     "data": {
      "image/png": "[encoded data removed]",
      "text/plain": [
       "<Figure size 720x72 with 1 Axes>"
      ]
     },
     "metadata": {},
     "output_type": "display_data"
    }
   ],
   "source": [
    "sns.palplot(sns.color_palette(\"YlGn\", 10))"
   ]
  },
  {
   "cell_type": "code",
   "execution_count": 14,
   "metadata": {},
   "outputs": [
    {
     "data": {
      "image/png": "[encoded data removed]",
      "text/plain": [
       "<Figure size 720x72 with 1 Axes>"
      ]
     },
     "metadata": {},
     "output_type": "display_data"
    }
   ],
   "source": [
    "sns.palplot(sns.color_palette(\"YlGnBu\", 10))"
   ]
  },
  {
   "cell_type": "code",
   "execution_count": 15,
   "metadata": {},
   "outputs": [
    {
     "data": {
      "image/png": "[encoded data removed]",
      "text/plain": [
       "<Figure size 720x72 with 1 Axes>"
      ]
     },
     "metadata": {},
     "output_type": "display_data"
    }
   ],
   "source": [
    "sns.palplot(sns.color_palette(\"YlOrBr\", 10))"
   ]
  },
  {
   "cell_type": "code",
   "execution_count": 16,
   "metadata": {},
   "outputs": [
    {
     "data": {
      "image/png": "[encoded data removed]",
      "text/plain": [
       "<Figure size 720x72 with 1 Axes>"
      ]
     },
     "metadata": {},
     "output_type": "display_data"
    }
   ],
   "source": [
    "sns.palplot(sns.color_palette(\"YlOrRd\", 10))"
   ]
  },
  {
   "cell_type": "code",
   "execution_count": 17,
   "metadata": {},
   "outputs": [
    {
     "data": {
      "image/png": "[encoded data removed]",
      "text/plain": [
       "<Figure size 720x72 with 1 Axes>"
      ]
     },
     "metadata": {},
     "output_type": "display_data"
    }
   ],
   "source": [
    "sns.palplot(sns.color_palette(\"BrBG\", 10))"
   ]
  },
  {
   "cell_type": "code",
   "execution_count": 18,
   "metadata": {},
   "outputs": [
    {
     "data": {
      "image/png": "[encoded data removed]",
      "text/plain": [
       "<Figure size 720x72 with 1 Axes>"
      ]
     },
     "metadata": {},
     "output_type": "display_data"
    }
   ],
   "source": [
    "sns.palplot(sns.color_palette(\"PiYG\", 10))"
   ]
  },
  {
   "cell_type": "code",
   "execution_count": 19,
   "metadata": {},
   "outputs": [
    {
     "data": {
      "image/png": "[encoded data removed]",
      "text/plain": [
       "<Figure size 720x72 with 1 Axes>"
      ]
     },
     "metadata": {},
     "output_type": "display_data"
    }
   ],
   "source": [
    "sns.palplot(sns.color_palette(\"PRGn\", 10))"
   ]
  },
  {
   "cell_type": "code",
   "execution_count": 20,
   "metadata": {},
   "outputs": [
    {
     "data": {
      "image/png": "[encoded data removed]",
      "text/plain": [
       "<Figure size 720x72 with 1 Axes>"
      ]
     },
     "metadata": {},
     "output_type": "display_data"
    }
   ],
   "source": [
    "sns.palplot(sns.color_palette(\"PuOr\", 10))"
   ]
  },
  {
   "cell_type": "code",
   "execution_count": 21,
   "metadata": {},
   "outputs": [
    {
     "data": {
      "image/png": "[encoded data removed]",
      "text/plain": [
       "<Figure size 720x72 with 1 Axes>"
      ]
     },
     "metadata": {},
     "output_type": "display_data"
    }
   ],
   "source": [
    "sns.palplot(sns.color_palette(\"RdBu\", 10))"
   ]
  },
  {
   "cell_type": "code",
   "execution_count": 22,
   "metadata": {},
   "outputs": [
    {
     "data": {
      "image/png": "[encoded data removed]",
      "text/plain": [
       "<Figure size 720x72 with 1 Axes>"
      ]
     },
     "metadata": {},
     "output_type": "display_data"
    }
   ],
   "source": [
    "sns.palplot(sns.color_palette(\"RdGy\", 10))"
   ]
  },
  {
   "cell_type": "code",
   "execution_count": 23,
   "metadata": {},
   "outputs": [
    {
     "data": {
      "image/png": "[encoded data removed]",
      "text/plain": [
       "<Figure size 720x72 with 1 Axes>"
      ]
     },
     "metadata": {},
     "output_type": "display_data"
    }
   ],
   "source": [
    "sns.palplot(sns.color_palette(\"RdYlBu\", 10))"
   ]
  },
  {
   "cell_type": "code",
   "execution_count": 24,
   "metadata": {},
   "outputs": [
    {
     "data": {
      "image/png": "[encoded data removed]",
      "text/plain": [
       "<Figure size 720x72 with 1 Axes>"
      ]
     },
     "metadata": {},
     "output_type": "display_data"
    }
   ],
   "source": [
    "sns.palplot(sns.color_palette(\"RdYlGn\", 10))"
   ]
  },
  {
   "cell_type": "code",
   "execution_count": 25,
   "metadata": {},
   "outputs": [
    {
     "data": {
      "image/png": "[encoded data removed]",
      "text/plain": [
       "<Figure size 720x72 with 1 Axes>"
      ]
     },
     "metadata": {},
     "output_type": "display_data"
    }
   ],
   "source": [
    "sns.palplot(sns.color_palette(\"Spectral\", 10))"
   ]
  },
  {
   "cell_type": "markdown",
   "metadata": {},
   "source": [
    "## Create a color palette and set it as the current color palette"
   ]
  },
  {
   "cell_type": "code",
   "execution_count": 26,
   "metadata": {},
   "outputs": [
    {
     "data": {
      "image/png": "[encoded data removed]",
      "text/plain": [
       "<Figure size 432x72 with 1 Axes>"
      ]
     },
     "metadata": {},
     "output_type": "display_data"
    }
   ],
   "source": [
    "flatui = [\"#9b59b6\", \"#3498db\", \"#95a5a6\", \"#e74c3c\", \"#34495e\", \"#2ecc71\"]\n",
    "sns.set_palette(flatui)\n",
    "sns.palplot(sns.color_palette())"
   ]
  },
  {
   "cell_type": "markdown",
   "metadata": {},
   "source": [
    "## Set the color of a plot"
   ]
  },
  {
   "cell_type": "code",
   "execution_count": 27,
   "metadata": {},
   "outputs": [
    {
     "name": "stderr",
     "output_type": "stream",
     "text": [
      "C:\\Users\\I343785\\AppData\\Local\\Continuum\\Anaconda3\\lib\\site-packages\\seaborn\\timeseries.py:183: UserWarning: The `tsplot` function is deprecated and will be removed in a future release. Please update your code to use the new `lineplot` function.\n",
      "  warnings.warn(msg, UserWarning)\n",
      "C:\\Users\\I343785\\AppData\\Local\\Continuum\\Anaconda3\\lib\\site-packages\\scipy\\stats\\stats.py:1713: FutureWarning: Using a non-tuple sequence for multidimensional indexing is deprecated; use `arr[tuple(seq)]` instead of `arr[seq]`. In the future this will be interpreted as an array index, `arr[np.array(seq)]`, which will result either in an error or a different result.\n",
      "  return np.add.reduce(sorted[indexer] * weights, axis=axis) / sumval\n"
     ]
    },
    {
     "data": {
      "text/plain": [
       "<matplotlib.axes._subplots.AxesSubplot at 0x191f26262e8>"
      ]
     },
     "execution_count": 27,
     "metadata": {},
     "output_type": "execute_result"
    },
    {
     "data": {
      "image/png": "[encoded data removed]",
      "text/plain": [
       "<Figure size 432x288 with 1 Axes>"
      ]
     },
     "metadata": {},
     "output_type": "display_data"
    }
   ],
   "source": [
    "sns.tsplot([df.deaths_regiment_1, df.deaths_regiment_2, df.deaths_regiment_3, df.deaths_regiment_4,\n",
    "            df.deaths_regiment_5, df.deaths_regiment_6, df.deaths_regiment_7], color=\"#34495e\")"
   ]
  }
 ],
 "metadata": {
  "kernelspec": {
   "display_name": "Python 3",
   "language": "python",
   "name": "python3"
  },
  "language_info": {
   "codemirror_mode": {
    "name": "ipython",
    "version": 3
   },
   "file_extension": ".py",
   "mimetype": "text/x-python",
   "name": "python",
   "nbconvert_exporter": "python",
   "pygments_lexer": "ipython3",
   "version": "3.6.6"
  }
 },
 "nbformat": 4,
 "nbformat_minor": 1
}
