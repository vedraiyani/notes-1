{
 "cells": [
  {
   "cell_type": "raw",
   "metadata": {},
   "source": [
    "---\n",
    "title: \"Simple Clustering With SciPy\"\n",
    "author: \"Chris Albon\"\n",
    "date: 2017-12-20T11:53:49-07:00\n",
    "description: \"Simple clustering with SciPy.\"\n",
    "type: technical_note\n",
    "draft: false\n",
    "---"
   ]
  },
  {
   "cell_type": "markdown",
   "metadata": {},
   "source": [
    "### Import modules"
   ]
  },
  {
   "cell_type": "code",
   "execution_count": 1,
   "metadata": {},
   "outputs": [],
   "source": [
    "import numpy as np\n",
    "%matplotlib inline\n",
    "import matplotlib.pyplot as plt\n",
    "from scipy.cluster import vq"
   ]
  },
  {
   "cell_type": "markdown",
   "metadata": {},
   "source": [
    "### Create coordinates for battles for each year of the war"
   ]
  },
  {
   "cell_type": "code",
   "execution_count": 2,
   "metadata": {},
   "outputs": [],
   "source": [
    "# create 100 coordinate pairs (i.e. two values), then add 5 to all of them\n",
    "year_1 = np.random.randn(100, 2) + 5\n",
    "\n",
    "# create 30 coordinatee pairs (i.e. two values), then subtract 5 to all of them\n",
    "year_2 = np.random.randn(30, 2) - 5\n",
    "\n",
    "# create 50 coordinatee pairs (i.e. two values)\n",
    "year_3 = np.random.randn(50, 2)"
   ]
  },
  {
   "cell_type": "markdown",
   "metadata": {},
   "source": [
    "### View the first 3 entries of each year of battles"
   ]
  },
  {
   "cell_type": "code",
   "execution_count": 3,
   "metadata": {},
   "outputs": [
    {
     "name": "stdout",
     "output_type": "stream",
     "text": [
      "year 1 battles: [[3.82277377 5.35353143]\n",
      " [5.62625338 3.98462564]\n",
      " [4.51960024 4.81493686]]\n",
      "year 2 battles: [[-6.45712005 -6.78468487]\n",
      " [-5.86883464 -3.00287938]\n",
      " [-5.47821051 -4.83970438]]\n",
      "year 3 battles: [[ 0.79582553 -1.19037065]\n",
      " [ 0.28026965 -1.04429161]\n",
      " [-1.80932699  0.07550675]]\n"
     ]
    }
   ],
   "source": [
    "print('year 1 battles:',  year_1[0:3])\n",
    "print('year 2 battles:', year_2[0:3])\n",
    "print('year 3 battles:', year_3[0:3])"
   ]
  },
  {
   "cell_type": "markdown",
   "metadata": {},
   "source": [
    "### Pool all three years of coordinates"
   ]
  },
  {
   "cell_type": "code",
   "execution_count": 4,
   "metadata": {},
   "outputs": [],
   "source": [
    "# vertically stack year_1, year_2, and year_3 elements\n",
    "battles = np.vstack([year_1, year_2, year_3])"
   ]
  },
  {
   "cell_type": "markdown",
   "metadata": {},
   "source": [
    "### Cluster the battle locations into three groups"
   ]
  },
  {
   "cell_type": "code",
   "execution_count": 5,
   "metadata": {},
   "outputs": [],
   "source": [
    "# calculate the centroid coordinates of each cluster \n",
    "# and the variance of all the clusters\n",
    "centroids, variance  = vq.kmeans(battles, 3)"
   ]
  },
  {
   "cell_type": "markdown",
   "metadata": {},
   "source": [
    "### View the centroid coordinate for each of the three clusters"
   ]
  },
  {
   "cell_type": "code",
   "execution_count": 6,
   "metadata": {},
   "outputs": [
    {
     "data": {
      "text/plain": [
       "array([[ 5.05703101,  4.93040281],\n",
       "       [-4.98105078, -5.21104621],\n",
       "       [-0.00866026,  0.04171958]])"
      ]
     },
     "execution_count": 6,
     "metadata": {},
     "output_type": "execute_result"
    }
   ],
   "source": [
    "centroids"
   ]
  },
  {
   "cell_type": "markdown",
   "metadata": {},
   "source": [
    "### View the variance of the clusters (they all share the same)"
   ]
  },
  {
   "cell_type": "code",
   "execution_count": 7,
   "metadata": {},
   "outputs": [
    {
     "data": {
      "text/plain": [
       "1.2344753509626623"
      ]
     },
     "execution_count": 7,
     "metadata": {},
     "output_type": "execute_result"
    }
   ],
   "source": [
    "variance"
   ]
  },
  {
   "cell_type": "markdown",
   "metadata": {},
   "source": [
    "### Seperate the battle data into clusters"
   ]
  },
  {
   "cell_type": "code",
   "execution_count": 8,
   "metadata": {},
   "outputs": [],
   "source": [
    "identified, distance = vq.vq(battles, centroids)"
   ]
  },
  {
   "cell_type": "markdown",
   "metadata": {},
   "source": [
    "### View the cluster of each battle"
   ]
  },
  {
   "cell_type": "code",
   "execution_count": 9,
   "metadata": {},
   "outputs": [
    {
     "data": {
      "text/plain": [
       "array([0, 0, 0, 0, 0, 0, 0, 0, 0, 0, 0, 0, 0, 0, 0, 0, 0, 0, 0, 0, 0, 0,\n",
       "       0, 0, 0, 0, 0, 0, 0, 0, 0, 0, 0, 0, 0, 0, 0, 0, 0, 0, 0, 0, 0, 0,\n",
       "       0, 0, 0, 0, 0, 0, 0, 0, 0, 0, 0, 0, 0, 0, 0, 0, 0, 0, 0, 0, 0, 0,\n",
       "       0, 0, 0, 0, 0, 0, 0, 0, 0, 0, 0, 0, 0, 0, 0, 0, 0, 0, 0, 0, 0, 0,\n",
       "       0, 0, 0, 0, 0, 0, 0, 0, 0, 0, 0, 0, 1, 1, 1, 1, 1, 1, 1, 1, 1, 1,\n",
       "       1, 1, 1, 1, 1, 1, 1, 1, 1, 1, 1, 1, 1, 1, 1, 1, 1, 1, 1, 1, 2, 2,\n",
       "       2, 2, 2, 2, 2, 2, 2, 2, 2, 2, 2, 2, 2, 2, 2, 2, 2, 2, 2, 2, 2, 2,\n",
       "       2, 2, 2, 2, 2, 2, 2, 2, 2, 2, 2, 2, 2, 2, 2, 2, 2, 2, 2, 2, 2, 2,\n",
       "       2, 2, 2, 2])"
      ]
     },
     "execution_count": 9,
     "metadata": {},
     "output_type": "execute_result"
    }
   ],
   "source": [
    "identified"
   ]
  },
  {
   "cell_type": "markdown",
   "metadata": {},
   "source": [
    "### View the distance of each individual battle from their cluster's centroid"
   ]
  },
  {
   "cell_type": "code",
   "execution_count": 10,
   "metadata": {},
   "outputs": [
    {
     "data": {
      "text/plain": [
       "array([1.30477153, 1.10386075, 0.54969466, 2.07877929, 1.29159639,\n",
       "       1.62720981, 0.49911392, 0.57047596, 1.14302344, 2.01545129,\n",
       "       0.06231794, 1.92676546, 2.56293697, 1.17822573, 1.09712145,\n",
       "       0.96016399, 1.60235184, 1.28503061, 1.81594658, 1.81912604,\n",
       "       0.49754361, 0.74984264, 0.11752895, 0.22865556, 1.65729227,\n",
       "       0.41673377, 1.80254703, 1.47479267, 1.12545733, 0.52282334,\n",
       "       1.67987535, 1.99632698, 0.60861327, 1.35630437, 1.22855622,\n",
       "       1.12664726, 0.47300969, 0.96542351, 0.92018191, 0.73967254,\n",
       "       0.99326312, 1.66363958, 0.74138094, 0.96076523, 2.66412509,\n",
       "       0.90599747, 2.48012642, 1.56459114, 1.2455819 , 0.62302759,\n",
       "       2.20386201, 1.41620983, 1.3872692 , 1.55652171, 0.73864406,\n",
       "       1.32695044, 0.12464335, 1.65065248, 0.36083397, 0.86227113,\n",
       "       1.10641673, 1.05047635, 1.60283126, 3.26617713, 2.24825158,\n",
       "       1.09555848, 0.9505506 , 1.10348079, 2.47415775, 0.25036734,\n",
       "       0.66213531, 0.25897004, 2.7645545 , 1.08088113, 1.27290925,\n",
       "       0.61241674, 0.92725305, 1.92938219, 2.4878154 , 0.86142745,\n",
       "       1.59542915, 0.6155328 , 0.77208379, 0.95131828, 0.75359754,\n",
       "       1.65182212, 0.92276211, 1.05671784, 0.26420969, 1.31098363,\n",
       "       0.63921626, 0.38597531, 0.94749451, 1.17318844, 1.55387795,\n",
       "       1.1252367 , 0.74416801, 1.73025114, 1.70143154, 1.2587892 ,\n",
       "       2.15757251, 2.37994977, 0.62053408, 0.83297   , 1.27351708,\n",
       "       2.0428484 , 0.77437661, 0.46735315, 1.18571585, 0.61569502,\n",
       "       0.87142753, 1.6801584 , 1.61487186, 1.27071854, 1.13600248,\n",
       "       0.60285145, 1.75005334, 1.2163371 , 0.71775123, 1.2055746 ,\n",
       "       1.20444066, 1.56978251, 2.20141514, 0.60332709, 0.7568172 ,\n",
       "       2.48417124, 1.72831659, 0.52753021, 1.15589173, 1.67808442,\n",
       "       1.47147672, 1.1237886 , 1.80098369, 0.53577843, 2.84470376,\n",
       "       1.41106436, 1.47085146, 1.04464236, 1.18279272, 0.40123122,\n",
       "       2.30364522, 0.89712755, 0.23637667, 1.03664437, 1.35470065,\n",
       "       1.79877936, 0.59820177, 0.16037709, 2.16631382, 1.47946586,\n",
       "       1.53088025, 1.45299674, 0.45971075, 1.8724685 , 1.1626042 ,\n",
       "       0.96554264, 1.75099184, 0.61499089, 0.39075146, 0.95187106,\n",
       "       2.75743986, 1.59101145, 1.46574897, 1.4018245 , 0.3376962 ,\n",
       "       0.27098899, 1.70814176, 0.70120418, 1.83505803, 1.12889925,\n",
       "       0.9551371 , 1.73899901, 1.90100612, 0.71292719, 0.74695404,\n",
       "       1.97222975, 1.21069935, 1.70252797, 2.16101326, 0.29599879])"
      ]
     },
     "execution_count": 10,
     "metadata": {},
     "output_type": "execute_result"
    }
   ],
   "source": [
    "distance"
   ]
  },
  {
   "cell_type": "markdown",
   "metadata": {},
   "source": [
    "### Index the battles data by the cluster to which they belong"
   ]
  },
  {
   "cell_type": "code",
   "execution_count": 11,
   "metadata": {},
   "outputs": [],
   "source": [
    "cluster_1 = battles[identified == 0]\n",
    "cluster_2 = battles[identified == 1]\n",
    "cluster_3 = battles[identified == 2]"
   ]
  },
  {
   "cell_type": "markdown",
   "metadata": {},
   "source": [
    "### Print the first three coordinate pairs of each cluster"
   ]
  },
  {
   "cell_type": "code",
   "execution_count": 12,
   "metadata": {},
   "outputs": [
    {
     "name": "stdout",
     "output_type": "stream",
     "text": [
      "[[3.82277377 5.35353143]\n",
      " [5.62625338 3.98462564]\n",
      " [4.51960024 4.81493686]]\n",
      "[[-6.45712005 -6.78468487]\n",
      " [-5.86883464 -3.00287938]\n",
      " [-5.47821051 -4.83970438]]\n",
      "[[ 0.79582553 -1.19037065]\n",
      " [ 0.28026965 -1.04429161]\n",
      " [-1.80932699  0.07550675]]\n"
     ]
    }
   ],
   "source": [
    "print(cluster_1[0:3])\n",
    "print(cluster_2[0:3])\n",
    "print(cluster_3[0:3])"
   ]
  },
  {
   "cell_type": "markdown",
   "metadata": {},
   "source": [
    "### Plot all the battles, color each battle by cluster"
   ]
  },
  {
   "cell_type": "code",
   "execution_count": 13,
   "metadata": {},
   "outputs": [
    {
     "data": {
      "text/plain": [
       "<matplotlib.collections.PathCollection at 0x1e458d0df28>"
      ]
     },
     "execution_count": 13,
     "metadata": {},
     "output_type": "execute_result"
    },
    {
     "data": {
      "image/png": "[encoded data removed]",
      "text/plain": [
       "<Figure size 432x288 with 1 Axes>"
      ]
     },
     "metadata": {},
     "output_type": "display_data"
    }
   ],
   "source": [
    "# create a scatter plot there the x-axis is the first column of battles\n",
    "# the y-axis is the second column of battles, the size is 100, and\n",
    "# the color of each point is determined by the indentified variable\n",
    "plt.scatter(battles[:,0], battles[:,1], s=100, c=identified)"
   ]
  }
 ],
 "metadata": {
  "kernelspec": {
   "display_name": "Python 3",
   "language": "python",
   "name": "python3"
  },
  "language_info": {
   "codemirror_mode": {
    "name": "ipython",
    "version": 3
   },
   "file_extension": ".py",
   "mimetype": "text/x-python",
   "name": "python",
   "nbconvert_exporter": "python",
   "pygments_lexer": "ipython3",
   "version": "3.6.6"
  }
 },
 "nbformat": 4,
 "nbformat_minor": 1
}
