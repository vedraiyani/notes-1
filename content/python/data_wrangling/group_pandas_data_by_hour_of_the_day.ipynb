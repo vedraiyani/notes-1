{
 "cells": [
  {
   "cell_type": "raw",
   "metadata": {},
   "source": [
    "---\n",
    "title: \"Group Pandas Data By Hour Of The Day\"\n",
    "author: \"Chris Albon\"\n",
    "date: 2017-12-20T11:53:49-07:00\n",
    "description: \"Group data by hour of the day using pandas.\"\n",
    "type: technical_note\n",
    "draft: false\n",
    "---"
   ]
  },
  {
   "cell_type": "markdown",
   "metadata": {},
   "source": [
    "## Preliminaries"
   ]
  },
  {
   "cell_type": "code",
   "execution_count": 1,
   "metadata": {},
   "outputs": [],
   "source": [
    "# Import libraries\n",
    "import pandas as pd\n",
    "import numpy as np"
   ]
  },
  {
   "cell_type": "markdown",
   "metadata": {},
   "source": [
    "## Create Data"
   ]
  },
  {
   "cell_type": "code",
   "execution_count": 2,
   "metadata": {},
   "outputs": [],
   "source": [
    "# Create a time series of 2000 elements, one very five minutes starting on 1/1/2000\n",
    "time = pd.date_range('1/1/2000', periods=2000, freq='5min')\n",
    "\n",
    "# Create a pandas series with a random values between 0 and 100, using 'time' as the index\n",
    "series = pd.Series(np.random.randint(100, size=2000), index=time)"
   ]
  },
  {
   "cell_type": "markdown",
   "metadata": {},
   "source": [
    "## View Data"
   ]
  },
  {
   "cell_type": "code",
   "execution_count": 3,
   "metadata": {},
   "outputs": [
    {
     "data": {
      "text/plain": [
       "2000-01-01 00:00:00    89\n",
       "2000-01-01 00:05:00     1\n",
       "2000-01-01 00:10:00    38\n",
       "2000-01-01 00:15:00    93\n",
       "2000-01-01 00:20:00     4\n",
       "2000-01-01 00:25:00    28\n",
       "2000-01-01 00:30:00    81\n",
       "2000-01-01 00:35:00    87\n",
       "2000-01-01 00:40:00    78\n",
       "2000-01-01 00:45:00    19\n",
       "Freq: 5T, dtype: int32"
      ]
     },
     "execution_count": 3,
     "metadata": {},
     "output_type": "execute_result"
    }
   ],
   "source": [
    "# View the first few rows of the data\n",
    "series[0:10]"
   ]
  },
  {
   "cell_type": "markdown",
   "metadata": {},
   "source": [
    "## Group Data By Time Of The Day"
   ]
  },
  {
   "cell_type": "code",
   "execution_count": 4,
   "metadata": {},
   "outputs": [
    {
     "data": {
      "text/plain": [
       "0     51.119048\n",
       "1     47.559524\n",
       "2     47.130952\n",
       "3     49.583333\n",
       "4     52.214286\n",
       "5     50.000000\n",
       "6     47.238095\n",
       "7     45.976190\n",
       "8     47.583333\n",
       "9     55.976190\n",
       "10    41.845238\n",
       "11    43.547619\n",
       "12    53.678571\n",
       "13    49.523810\n",
       "14    55.845238\n",
       "15    46.178571\n",
       "16    48.392857\n",
       "17    47.452381\n",
       "18    47.666667\n",
       "19    49.976190\n",
       "20    45.142857\n",
       "21    42.511905\n",
       "22    46.712500\n",
       "23    47.805556\n",
       "dtype: float64"
      ]
     },
     "execution_count": 4,
     "metadata": {},
     "output_type": "execute_result"
    }
   ],
   "source": [
    "# Group the data by the index's hour value, then aggregate by the average\n",
    "series.groupby(series.index.hour).mean()"
   ]
  }
 ],
 "metadata": {
  "anaconda-cloud": {},
  "kernelspec": {
   "display_name": "Python 3",
   "language": "python",
   "name": "python3"
  },
  "language_info": {
   "codemirror_mode": {
    "name": "ipython",
    "version": 3
   },
   "file_extension": ".py",
   "mimetype": "text/x-python",
   "name": "python",
   "nbconvert_exporter": "python",
   "pygments_lexer": "ipython3",
   "version": "3.6.6"
  }
 },
 "nbformat": 4,
 "nbformat_minor": 1
}
