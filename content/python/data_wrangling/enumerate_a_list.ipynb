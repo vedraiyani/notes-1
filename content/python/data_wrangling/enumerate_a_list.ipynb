{
 "cells": [
  {
   "cell_type": "raw",
   "metadata": {},
   "source": [
    "---\n",
    "title: \"Enumerate A List\"\n",
    "author: \"Chris Albon\"\n",
    "date: 2017-12-20T11:53:49-07:00\n",
    "description: \"Enumerate a list in Python\"\n",
    "type: technical_note\n",
    "draft: false\n",
    "---"
   ]
  },
  {
   "cell_type": "code",
   "execution_count": 34,
   "metadata": {},
   "outputs": [],
   "source": [
    "# Create a list of strings\n",
    "data = ['One','Two','Three','Four','Five']"
   ]
  },
  {
   "cell_type": "code",
   "execution_count": 39,
   "metadata": {},
   "outputs": [
    {
     "data": {
      "text/plain": [
       "[(0, 'One'), (1, 'Two'), (2, 'Three'), (3, 'Four'), (4, 'Five')]"
      ]
     },
     "execution_count": 39,
     "metadata": {},
     "output_type": "execute_result"
    }
   ],
   "source": [
    "list(enumerate(data))"
   ]
  },
  {
   "cell_type": "code",
   "execution_count": 40,
   "metadata": {},
   "outputs": [
    {
     "name": "stdout",
     "output_type": "stream",
     "text": [
      "(0, 'One')\n",
      "One\n",
      "(1, 'Two')\n",
      "Two\n",
      "(2, 'Three')\n",
      "Three\n",
      "(3, 'Four')\n",
      "Four\n",
      "(4, 'Five')\n",
      "Five\n"
     ]
    }
   ],
   "source": [
    "# For each item in the enumerated variable, data\n",
    "for item in enumerate(data):\n",
    "    # Print the whole enumerated element\n",
    "    print(item)\n",
    "    # Print only the value (not the index number)\n",
    "    print(item[1])"
   ]
  },
  {
   "cell_type": "code",
   "execution_count": 37,
   "metadata": {},
   "outputs": [
    {
     "name": "stdout",
     "output_type": "stream",
     "text": [
      "100 One\n",
      "101 Two\n",
      "102 Three\n",
      "103 Four\n",
      "104 Five\n"
     ]
    }
   ],
   "source": [
    "# For each item in the enumerated variable, data\n",
    "for (index,item) in enumerate(data,100):\n",
    "    # Print the whole enumerated element\n",
    "    print(index,item)"
   ]
  },
  {
   "cell_type": "code",
   "execution_count": 38,
   "metadata": {},
   "outputs": [
    {
     "name": "stdout",
     "output_type": "stream",
     "text": [
      "0 One\n",
      "1 Two\n",
      "2 Three\n",
      "3 Four\n",
      "4 Five\n"
     ]
    }
   ],
   "source": [
    "# For each item in the enumerated variable, data\n",
    "for (index,item) in list(enumerate(data)):\n",
    "    # Print the whole enumerated element\n",
    "    print(index,item)"
   ]
  }
 ],
 "metadata": {
  "kernelspec": {
   "display_name": "Python 3",
   "language": "python",
   "name": "python3"
  },
  "language_info": {
   "codemirror_mode": {
    "name": "ipython",
    "version": 3
   },
   "file_extension": ".py",
   "mimetype": "text/x-python",
   "name": "python",
   "nbconvert_exporter": "python",
   "pygments_lexer": "ipython3",
   "version": "3.6.6"
  }
 },
 "nbformat": 4,
 "nbformat_minor": 2
}
