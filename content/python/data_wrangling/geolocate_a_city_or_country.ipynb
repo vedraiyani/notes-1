{
 "cells": [
  {
   "cell_type": "raw",
   "metadata": {},
   "source": [
    "---\n",
    "title: \"Geolocate A City And Country\"\n",
    "author: \"Chris Albon\"\n",
    "date: 2017-12-20T11:53:49-07:00\n",
    "description: \"Geolocate a city or country in Python.\"\n",
    "type: technical_note\n",
    "draft: false\n",
    "---"
   ]
  },
  {
   "cell_type": "markdown",
   "metadata": {},
   "source": [
    "This tutorial creates a function that attempts to take a city and country and return its latitude and longitude. But when the city is unavailable (which is often be the case), the returns the latitude and longitude of the center of the country."
   ]
  },
  {
   "cell_type": "markdown",
   "metadata": {},
   "source": [
    "## Preliminaries"
   ]
  },
  {
   "cell_type": "code",
   "execution_count": 3,
   "metadata": {},
   "outputs": [
    {
     "name": "stderr",
     "output_type": "stream",
     "text": [
      "C:\\Users\\I343785\\AppData\\Local\\Continuum\\Anaconda3\\lib\\site-packages\\ipykernel_launcher.py:2: DeprecationWarning: Using Nominatim with the default \"geopy/1.20.0\" `user_agent` is strongly discouraged, as it violates Nominatim's ToS https://operations.osmfoundation.org/policies/nominatim/ and may possibly cause 403 and 429 HTTP errors. Please specify a custom `user_agent` with `Nominatim(user_agent=\"my-application\")` or by overriding the default `user_agent`: `geopy.geocoders.options.default_user_agent = \"my-application\"`. In geopy 2.0 this will become an exception.\n",
      "  \n"
     ]
    }
   ],
   "source": [
    "from geopy.geocoders import Nominatim\n",
    "geolocator = Nominatim()\n",
    "import numpy as np"
   ]
  },
  {
   "cell_type": "markdown",
   "metadata": {},
   "source": [
    "## Create Geolocation Function"
   ]
  },
  {
   "cell_type": "code",
   "execution_count": 4,
   "metadata": {},
   "outputs": [],
   "source": [
    "def geolocate(city=None, country=None):\n",
    "    '''\n",
    "    Inputs city and country, or just country. Returns the lat/long coordinates of \n",
    "    either the city if possible, if not, then returns lat/long of the center of the country.\n",
    "    '''\n",
    "    \n",
    "    # If the city exists,\n",
    "    if city != None:\n",
    "        # Try\n",
    "        try:\n",
    "            # To geolocate the city and country\n",
    "            loc = geolocator.geocode(str(city + ',' + country))\n",
    "            # And return latitude and longitude\n",
    "            return (loc.latitude, loc.longitude)\n",
    "        # Otherwise\n",
    "        except:\n",
    "            # Return missing value\n",
    "            return np.nan\n",
    "    # If the city doesn't exist\n",
    "    else:\n",
    "        # Try\n",
    "        try:\n",
    "            # Geolocate the center of the country\n",
    "            loc = geolocator.geocode(country)\n",
    "            # And return latitude and longitude \n",
    "            return (loc.latitude, loc.longitude)\n",
    "        # Otherwise\n",
    "        except:\n",
    "            # Return missing value\n",
    "            return np.nan"
   ]
  },
  {
   "cell_type": "markdown",
   "metadata": {},
   "source": [
    "## Geolocate A City And Country"
   ]
  },
  {
   "cell_type": "code",
   "execution_count": 5,
   "metadata": {},
   "outputs": [
    {
     "data": {
      "text/plain": [
       "(30.2711286, -97.7436995)"
      ]
     },
     "execution_count": 5,
     "metadata": {},
     "output_type": "execute_result"
    }
   ],
   "source": [
    "# Geolocate a city and country\n",
    "geolocate(city='Austin', country='USA')"
   ]
  },
  {
   "cell_type": "markdown",
   "metadata": {},
   "source": [
    "##Geolocate Just A Country"
   ]
  },
  {
   "cell_type": "code",
   "execution_count": 6,
   "metadata": {},
   "outputs": [
    {
     "data": {
      "text/plain": [
       "(39.7837304, -100.4458825)"
      ]
     },
     "execution_count": 6,
     "metadata": {},
     "output_type": "execute_result"
    }
   ],
   "source": [
    "# Geolocate just a country\n",
    "geolocate(country='USA')"
   ]
  }
 ],
 "metadata": {
  "anaconda-cloud": {},
  "kernelspec": {
   "display_name": "Python 3",
   "language": "python",
   "name": "python3"
  },
  "language_info": {
   "codemirror_mode": {
    "name": "ipython",
    "version": 3
   },
   "file_extension": ".py",
   "mimetype": "text/x-python",
   "name": "python",
   "nbconvert_exporter": "python",
   "pygments_lexer": "ipython3",
   "version": "3.6.6"
  }
 },
 "nbformat": 4,
 "nbformat_minor": 1
}
