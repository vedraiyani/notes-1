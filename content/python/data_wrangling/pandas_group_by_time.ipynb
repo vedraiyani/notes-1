{
 "cells": [
  {
   "cell_type": "raw",
   "metadata": {},
   "source": [
    "---\n",
    "title: \"Group A Time Series With pandas\"\n",
    "author: \"Chris Albon\"\n",
    "date: 2017-12-20T11:53:49-07:00\n",
    "description: \"Group a time series with pandas.\"\n",
    "type: technical_note\n",
    "draft: false\n",
    "---"
   ]
  },
  {
   "cell_type": "markdown",
   "metadata": {},
   "source": [
    "### Import required modules"
   ]
  },
  {
   "cell_type": "code",
   "execution_count": 1,
   "metadata": {},
   "outputs": [],
   "source": [
    "from IPython.core.interactiveshell import InteractiveShell\n",
    "InteractiveShell.ast_node_interactivity='all'"
   ]
  },
  {
   "cell_type": "code",
   "execution_count": 2,
   "metadata": {},
   "outputs": [],
   "source": [
    "import pandas as pd\n",
    "import numpy as np"
   ]
  },
  {
   "cell_type": "markdown",
   "metadata": {},
   "source": [
    "### Create a dataframe"
   ]
  },
  {
   "cell_type": "code",
   "execution_count": 3,
   "metadata": {},
   "outputs": [
    {
     "data": {
      "text/html": [
       "<div>\n",
       "<style scoped>\n",
       "    .dataframe tbody tr th:only-of-type {\n",
       "        vertical-align: middle;\n",
       "    }\n",
       "\n",
       "    .dataframe tbody tr th {\n",
       "        vertical-align: top;\n",
       "    }\n",
       "\n",
       "    .dataframe thead th {\n",
       "        text-align: right;\n",
       "    }\n",
       "</style>\n",
       "<table border=\"1\" class=\"dataframe\">\n",
       "  <thead>\n",
       "    <tr style=\"text-align: right;\">\n",
       "      <th></th>\n",
       "      <th>german_army</th>\n",
       "      <th>allied_army</th>\n",
       "    </tr>\n",
       "  </thead>\n",
       "  <tbody>\n",
       "    <tr>\n",
       "      <th>2014-01-01 00:00:00</th>\n",
       "      <td>20266</td>\n",
       "      <td>20468</td>\n",
       "    </tr>\n",
       "    <tr>\n",
       "      <th>2014-01-01 01:00:00</th>\n",
       "      <td>29076</td>\n",
       "      <td>29728</td>\n",
       "    </tr>\n",
       "    <tr>\n",
       "      <th>2014-01-01 02:00:00</th>\n",
       "      <td>27911</td>\n",
       "      <td>39794</td>\n",
       "    </tr>\n",
       "    <tr>\n",
       "      <th>2014-01-01 03:00:00</th>\n",
       "      <td>25203</td>\n",
       "      <td>23221</td>\n",
       "    </tr>\n",
       "    <tr>\n",
       "      <th>2014-01-01 04:00:00</th>\n",
       "      <td>23592</td>\n",
       "      <td>39131</td>\n",
       "    </tr>\n",
       "  </tbody>\n",
       "</table>\n",
       "</div>"
      ],
      "text/plain": [
       "                     german_army  allied_army\n",
       "2014-01-01 00:00:00        20266        20468\n",
       "2014-01-01 01:00:00        29076        29728\n",
       "2014-01-01 02:00:00        27911        39794\n",
       "2014-01-01 03:00:00        25203        23221\n",
       "2014-01-01 04:00:00        23592        39131"
      ]
     },
     "execution_count": 3,
     "metadata": {},
     "output_type": "execute_result"
    }
   ],
   "source": [
    "df = pd.DataFrame()\n",
    "\n",
    "df['german_army'] = np.random.randint(low=20000, high=30000, size=100)\n",
    "df['allied_army'] = np.random.randint(low=20000, high=40000, size=100)\n",
    "df.index = pd.date_range('1/1/2014', periods=100, freq='H')\n",
    "\n",
    "df.head()"
   ]
  },
  {
   "cell_type": "markdown",
   "metadata": {},
   "source": [
    "### Truncate the dataframe"
   ]
  },
  {
   "cell_type": "code",
   "execution_count": 4,
   "metadata": {},
   "outputs": [
    {
     "data": {
      "text/html": [
       "<div>\n",
       "<style scoped>\n",
       "    .dataframe tbody tr th:only-of-type {\n",
       "        vertical-align: middle;\n",
       "    }\n",
       "\n",
       "    .dataframe tbody tr th {\n",
       "        vertical-align: top;\n",
       "    }\n",
       "\n",
       "    .dataframe thead th {\n",
       "        text-align: right;\n",
       "    }\n",
       "</style>\n",
       "<table border=\"1\" class=\"dataframe\">\n",
       "  <thead>\n",
       "    <tr style=\"text-align: right;\">\n",
       "      <th></th>\n",
       "      <th>german_army</th>\n",
       "      <th>allied_army</th>\n",
       "    </tr>\n",
       "  </thead>\n",
       "  <tbody>\n",
       "    <tr>\n",
       "      <th>2014-01-02 00:00:00</th>\n",
       "      <td>27252</td>\n",
       "      <td>24627</td>\n",
       "    </tr>\n",
       "    <tr>\n",
       "      <th>2014-01-02 01:00:00</th>\n",
       "      <td>28866</td>\n",
       "      <td>21078</td>\n",
       "    </tr>\n",
       "    <tr>\n",
       "      <th>2014-01-02 02:00:00</th>\n",
       "      <td>21675</td>\n",
       "      <td>28872</td>\n",
       "    </tr>\n",
       "    <tr>\n",
       "      <th>2014-01-02 03:00:00</th>\n",
       "      <td>23078</td>\n",
       "      <td>29725</td>\n",
       "    </tr>\n",
       "    <tr>\n",
       "      <th>2014-01-02 04:00:00</th>\n",
       "      <td>25799</td>\n",
       "      <td>29022</td>\n",
       "    </tr>\n",
       "    <tr>\n",
       "      <th>2014-01-02 05:00:00</th>\n",
       "      <td>26681</td>\n",
       "      <td>29478</td>\n",
       "    </tr>\n",
       "    <tr>\n",
       "      <th>2014-01-02 06:00:00</th>\n",
       "      <td>26195</td>\n",
       "      <td>35497</td>\n",
       "    </tr>\n",
       "    <tr>\n",
       "      <th>2014-01-02 07:00:00</th>\n",
       "      <td>22824</td>\n",
       "      <td>23646</td>\n",
       "    </tr>\n",
       "    <tr>\n",
       "      <th>2014-01-02 08:00:00</th>\n",
       "      <td>29492</td>\n",
       "      <td>36278</td>\n",
       "    </tr>\n",
       "    <tr>\n",
       "      <th>2014-01-02 09:00:00</th>\n",
       "      <td>27337</td>\n",
       "      <td>28569</td>\n",
       "    </tr>\n",
       "    <tr>\n",
       "      <th>2014-01-02 10:00:00</th>\n",
       "      <td>21074</td>\n",
       "      <td>37883</td>\n",
       "    </tr>\n",
       "    <tr>\n",
       "      <th>2014-01-02 11:00:00</th>\n",
       "      <td>24759</td>\n",
       "      <td>29804</td>\n",
       "    </tr>\n",
       "    <tr>\n",
       "      <th>2014-01-02 12:00:00</th>\n",
       "      <td>23066</td>\n",
       "      <td>32500</td>\n",
       "    </tr>\n",
       "    <tr>\n",
       "      <th>2014-01-02 13:00:00</th>\n",
       "      <td>28677</td>\n",
       "      <td>20941</td>\n",
       "    </tr>\n",
       "    <tr>\n",
       "      <th>2014-01-02 14:00:00</th>\n",
       "      <td>29362</td>\n",
       "      <td>30666</td>\n",
       "    </tr>\n",
       "    <tr>\n",
       "      <th>2014-01-02 15:00:00</th>\n",
       "      <td>25463</td>\n",
       "      <td>25793</td>\n",
       "    </tr>\n",
       "    <tr>\n",
       "      <th>2014-01-02 16:00:00</th>\n",
       "      <td>24429</td>\n",
       "      <td>36985</td>\n",
       "    </tr>\n",
       "    <tr>\n",
       "      <th>2014-01-02 17:00:00</th>\n",
       "      <td>28218</td>\n",
       "      <td>37761</td>\n",
       "    </tr>\n",
       "    <tr>\n",
       "      <th>2014-01-02 18:00:00</th>\n",
       "      <td>23225</td>\n",
       "      <td>23881</td>\n",
       "    </tr>\n",
       "    <tr>\n",
       "      <th>2014-01-02 19:00:00</th>\n",
       "      <td>21986</td>\n",
       "      <td>27281</td>\n",
       "    </tr>\n",
       "    <tr>\n",
       "      <th>2014-01-02 20:00:00</th>\n",
       "      <td>24143</td>\n",
       "      <td>21236</td>\n",
       "    </tr>\n",
       "    <tr>\n",
       "      <th>2014-01-02 21:00:00</th>\n",
       "      <td>20636</td>\n",
       "      <td>38590</td>\n",
       "    </tr>\n",
       "    <tr>\n",
       "      <th>2014-01-02 22:00:00</th>\n",
       "      <td>23652</td>\n",
       "      <td>24401</td>\n",
       "    </tr>\n",
       "    <tr>\n",
       "      <th>2014-01-02 23:00:00</th>\n",
       "      <td>29109</td>\n",
       "      <td>31078</td>\n",
       "    </tr>\n",
       "    <tr>\n",
       "      <th>2014-01-03 00:00:00</th>\n",
       "      <td>27177</td>\n",
       "      <td>34310</td>\n",
       "    </tr>\n",
       "  </tbody>\n",
       "</table>\n",
       "</div>"
      ],
      "text/plain": [
       "                     german_army  allied_army\n",
       "2014-01-02 00:00:00        27252        24627\n",
       "2014-01-02 01:00:00        28866        21078\n",
       "2014-01-02 02:00:00        21675        28872\n",
       "2014-01-02 03:00:00        23078        29725\n",
       "2014-01-02 04:00:00        25799        29022\n",
       "2014-01-02 05:00:00        26681        29478\n",
       "2014-01-02 06:00:00        26195        35497\n",
       "2014-01-02 07:00:00        22824        23646\n",
       "2014-01-02 08:00:00        29492        36278\n",
       "2014-01-02 09:00:00        27337        28569\n",
       "2014-01-02 10:00:00        21074        37883\n",
       "2014-01-02 11:00:00        24759        29804\n",
       "2014-01-02 12:00:00        23066        32500\n",
       "2014-01-02 13:00:00        28677        20941\n",
       "2014-01-02 14:00:00        29362        30666\n",
       "2014-01-02 15:00:00        25463        25793\n",
       "2014-01-02 16:00:00        24429        36985\n",
       "2014-01-02 17:00:00        28218        37761\n",
       "2014-01-02 18:00:00        23225        23881\n",
       "2014-01-02 19:00:00        21986        27281\n",
       "2014-01-02 20:00:00        24143        21236\n",
       "2014-01-02 21:00:00        20636        38590\n",
       "2014-01-02 22:00:00        23652        24401\n",
       "2014-01-02 23:00:00        29109        31078\n",
       "2014-01-03 00:00:00        27177        34310"
      ]
     },
     "execution_count": 4,
     "metadata": {},
     "output_type": "execute_result"
    }
   ],
   "source": [
    "tdf=df.truncate(before='1/2/2014', after='1/3/2014')\n",
    "tdf"
   ]
  },
  {
   "cell_type": "code",
   "execution_count": 5,
   "metadata": {},
   "outputs": [
    {
     "data": {
      "text/plain": [
       "50"
      ]
     },
     "execution_count": 5,
     "metadata": {},
     "output_type": "execute_result"
    },
    {
     "data": {
      "text/plain": [
       "50"
      ]
     },
     "execution_count": 5,
     "metadata": {},
     "output_type": "execute_result"
    },
    {
     "data": {
      "text/plain": [
       "50"
      ]
     },
     "execution_count": 5,
     "metadata": {},
     "output_type": "execute_result"
    },
    {
     "data": {
      "text/plain": [
       "50"
      ]
     },
     "execution_count": 5,
     "metadata": {},
     "output_type": "execute_result"
    }
   ],
   "source": [
    "tdf.size\n",
    "df['1/2/2014':'1/3/2014 00'].size\n",
    "df['1/2/2014':'2014-01-03 00'].size\n",
    "df['2014-01-02':'2014-01-03 00'].size"
   ]
  },
  {
   "cell_type": "markdown",
   "metadata": {},
   "source": [
    "### Set the dataframe's index"
   ]
  },
  {
   "cell_type": "code",
   "execution_count": 6,
   "metadata": {},
   "outputs": [
    {
     "data": {
      "text/html": [
       "<div>\n",
       "<style scoped>\n",
       "    .dataframe tbody tr th:only-of-type {\n",
       "        vertical-align: middle;\n",
       "    }\n",
       "\n",
       "    .dataframe tbody tr th {\n",
       "        vertical-align: top;\n",
       "    }\n",
       "\n",
       "    .dataframe thead th {\n",
       "        text-align: right;\n",
       "    }\n",
       "</style>\n",
       "<table border=\"1\" class=\"dataframe\">\n",
       "  <thead>\n",
       "    <tr style=\"text-align: right;\">\n",
       "      <th></th>\n",
       "      <th>german_army</th>\n",
       "      <th>allied_army</th>\n",
       "    </tr>\n",
       "  </thead>\n",
       "  <tbody>\n",
       "    <tr>\n",
       "      <th>2014-01-01 00:00:00</th>\n",
       "      <td>20266</td>\n",
       "      <td>20468</td>\n",
       "    </tr>\n",
       "    <tr>\n",
       "      <th>2014-01-01 01:00:00</th>\n",
       "      <td>29076</td>\n",
       "      <td>29728</td>\n",
       "    </tr>\n",
       "    <tr>\n",
       "      <th>2014-01-01 02:00:00</th>\n",
       "      <td>27911</td>\n",
       "      <td>39794</td>\n",
       "    </tr>\n",
       "    <tr>\n",
       "      <th>2014-01-01 03:00:00</th>\n",
       "      <td>25203</td>\n",
       "      <td>23221</td>\n",
       "    </tr>\n",
       "    <tr>\n",
       "      <th>2014-01-01 04:00:00</th>\n",
       "      <td>23592</td>\n",
       "      <td>39131</td>\n",
       "    </tr>\n",
       "  </tbody>\n",
       "</table>\n",
       "</div>"
      ],
      "text/plain": [
       "                     german_army  allied_army\n",
       "2014-01-01 00:00:00        20266        20468\n",
       "2014-01-01 01:00:00        29076        29728\n",
       "2014-01-01 02:00:00        27911        39794\n",
       "2014-01-01 03:00:00        25203        23221\n",
       "2014-01-01 04:00:00        23592        39131"
      ]
     },
     "execution_count": 6,
     "metadata": {},
     "output_type": "execute_result"
    }
   ],
   "source": [
    "df.head()"
   ]
  },
  {
   "cell_type": "code",
   "execution_count": 7,
   "metadata": {},
   "outputs": [],
   "source": [
    "df.index = df.index + pd.DateOffset(months=4, days=5)\n",
    "# df.index = df.index + pd.DateOffset(months=4, days=5,years=1,hours=1,minutes=1,seconds=1)"
   ]
  },
  {
   "cell_type": "code",
   "execution_count": 8,
   "metadata": {},
   "outputs": [
    {
     "data": {
      "text/plain": [
       "DatetimeIndex(['2014-05-06 00:00:00', '2014-05-06 01:00:00',\n",
       "               '2014-05-06 02:00:00', '2014-05-06 03:00:00',\n",
       "               '2014-05-06 04:00:00'],\n",
       "              dtype='datetime64[ns]', freq='H')"
      ]
     },
     "execution_count": 8,
     "metadata": {},
     "output_type": "execute_result"
    },
    {
     "data": {
      "text/plain": [
       "{2014}"
      ]
     },
     "execution_count": 8,
     "metadata": {},
     "output_type": "execute_result"
    },
    {
     "data": {
      "text/plain": [
       "{5}"
      ]
     },
     "execution_count": 8,
     "metadata": {},
     "output_type": "execute_result"
    },
    {
     "data": {
      "text/plain": [
       "{6, 7, 8, 9, 10}"
      ]
     },
     "execution_count": 8,
     "metadata": {},
     "output_type": "execute_result"
    },
    {
     "data": {
      "text/plain": [
       "{0,\n",
       " 1,\n",
       " 2,\n",
       " 3,\n",
       " 4,\n",
       " 5,\n",
       " 6,\n",
       " 7,\n",
       " 8,\n",
       " 9,\n",
       " 10,\n",
       " 11,\n",
       " 12,\n",
       " 13,\n",
       " 14,\n",
       " 15,\n",
       " 16,\n",
       " 17,\n",
       " 18,\n",
       " 19,\n",
       " 20,\n",
       " 21,\n",
       " 22,\n",
       " 23}"
      ]
     },
     "execution_count": 8,
     "metadata": {},
     "output_type": "execute_result"
    },
    {
     "data": {
      "text/plain": [
       "{0}"
      ]
     },
     "execution_count": 8,
     "metadata": {},
     "output_type": "execute_result"
    },
    {
     "data": {
      "text/plain": [
       "{0}"
      ]
     },
     "execution_count": 8,
     "metadata": {},
     "output_type": "execute_result"
    },
    {
     "data": {
      "text/plain": [
       "24"
      ]
     },
     "execution_count": 8,
     "metadata": {},
     "output_type": "execute_result"
    }
   ],
   "source": [
    "df.index[:5]\n",
    "set(df.index.year)\n",
    "set(df.index.month)\n",
    "set(df.index.day)\n",
    "set(df.index.hour)\n",
    "set(df.index.minute)\n",
    "set(df.index.second)\n",
    "len(set(df.index.hour))"
   ]
  },
  {
   "cell_type": "markdown",
   "metadata": {},
   "source": [
    "### View the dataframe"
   ]
  },
  {
   "cell_type": "code",
   "execution_count": 9,
   "metadata": {},
   "outputs": [
    {
     "data": {
      "text/html": [
       "<div>\n",
       "<style scoped>\n",
       "    .dataframe tbody tr th:only-of-type {\n",
       "        vertical-align: middle;\n",
       "    }\n",
       "\n",
       "    .dataframe tbody tr th {\n",
       "        vertical-align: top;\n",
       "    }\n",
       "\n",
       "    .dataframe thead th {\n",
       "        text-align: right;\n",
       "    }\n",
       "</style>\n",
       "<table border=\"1\" class=\"dataframe\">\n",
       "  <thead>\n",
       "    <tr style=\"text-align: right;\">\n",
       "      <th></th>\n",
       "      <th>german_army</th>\n",
       "      <th>allied_army</th>\n",
       "    </tr>\n",
       "  </thead>\n",
       "  <tbody>\n",
       "    <tr>\n",
       "      <th>2014-05-06 00:00:00</th>\n",
       "      <td>20266</td>\n",
       "      <td>20468</td>\n",
       "    </tr>\n",
       "    <tr>\n",
       "      <th>2014-05-06 01:00:00</th>\n",
       "      <td>29076</td>\n",
       "      <td>29728</td>\n",
       "    </tr>\n",
       "    <tr>\n",
       "      <th>2014-05-06 02:00:00</th>\n",
       "      <td>27911</td>\n",
       "      <td>39794</td>\n",
       "    </tr>\n",
       "    <tr>\n",
       "      <th>2014-05-06 03:00:00</th>\n",
       "      <td>25203</td>\n",
       "      <td>23221</td>\n",
       "    </tr>\n",
       "    <tr>\n",
       "      <th>2014-05-06 04:00:00</th>\n",
       "      <td>23592</td>\n",
       "      <td>39131</td>\n",
       "    </tr>\n",
       "  </tbody>\n",
       "</table>\n",
       "</div>"
      ],
      "text/plain": [
       "                     german_army  allied_army\n",
       "2014-05-06 00:00:00        20266        20468\n",
       "2014-05-06 01:00:00        29076        29728\n",
       "2014-05-06 02:00:00        27911        39794\n",
       "2014-05-06 03:00:00        25203        23221\n",
       "2014-05-06 04:00:00        23592        39131"
      ]
     },
     "execution_count": 9,
     "metadata": {},
     "output_type": "execute_result"
    }
   ],
   "source": [
    "df.head()"
   ]
  },
  {
   "cell_type": "markdown",
   "metadata": {},
   "source": [
    "### Lead a variable 1 hour"
   ]
  },
  {
   "cell_type": "code",
   "execution_count": 10,
   "metadata": {},
   "outputs": [
    {
     "data": {
      "text/html": [
       "<div>\n",
       "<style scoped>\n",
       "    .dataframe tbody tr th:only-of-type {\n",
       "        vertical-align: middle;\n",
       "    }\n",
       "\n",
       "    .dataframe tbody tr th {\n",
       "        vertical-align: top;\n",
       "    }\n",
       "\n",
       "    .dataframe thead th {\n",
       "        text-align: right;\n",
       "    }\n",
       "</style>\n",
       "<table border=\"1\" class=\"dataframe\">\n",
       "  <thead>\n",
       "    <tr style=\"text-align: right;\">\n",
       "      <th></th>\n",
       "      <th>german_army</th>\n",
       "      <th>allied_army</th>\n",
       "    </tr>\n",
       "  </thead>\n",
       "  <tbody>\n",
       "    <tr>\n",
       "      <th>2014-05-06 00:00:00</th>\n",
       "      <td>NaN</td>\n",
       "      <td>NaN</td>\n",
       "    </tr>\n",
       "    <tr>\n",
       "      <th>2014-05-06 01:00:00</th>\n",
       "      <td>20266.0</td>\n",
       "      <td>20468.0</td>\n",
       "    </tr>\n",
       "    <tr>\n",
       "      <th>2014-05-06 02:00:00</th>\n",
       "      <td>29076.0</td>\n",
       "      <td>29728.0</td>\n",
       "    </tr>\n",
       "    <tr>\n",
       "      <th>2014-05-06 03:00:00</th>\n",
       "      <td>27911.0</td>\n",
       "      <td>39794.0</td>\n",
       "    </tr>\n",
       "    <tr>\n",
       "      <th>2014-05-06 04:00:00</th>\n",
       "      <td>25203.0</td>\n",
       "      <td>23221.0</td>\n",
       "    </tr>\n",
       "  </tbody>\n",
       "</table>\n",
       "</div>"
      ],
      "text/plain": [
       "                     german_army  allied_army\n",
       "2014-05-06 00:00:00          NaN          NaN\n",
       "2014-05-06 01:00:00      20266.0      20468.0\n",
       "2014-05-06 02:00:00      29076.0      29728.0\n",
       "2014-05-06 03:00:00      27911.0      39794.0\n",
       "2014-05-06 04:00:00      25203.0      23221.0"
      ]
     },
     "execution_count": 10,
     "metadata": {},
     "output_type": "execute_result"
    }
   ],
   "source": [
    "df.shift(1).head()"
   ]
  },
  {
   "cell_type": "markdown",
   "metadata": {},
   "source": [
    "### Lag a variable 1 hour"
   ]
  },
  {
   "cell_type": "code",
   "execution_count": 11,
   "metadata": {},
   "outputs": [
    {
     "data": {
      "text/html": [
       "<div>\n",
       "<style scoped>\n",
       "    .dataframe tbody tr th:only-of-type {\n",
       "        vertical-align: middle;\n",
       "    }\n",
       "\n",
       "    .dataframe tbody tr th {\n",
       "        vertical-align: top;\n",
       "    }\n",
       "\n",
       "    .dataframe thead th {\n",
       "        text-align: right;\n",
       "    }\n",
       "</style>\n",
       "<table border=\"1\" class=\"dataframe\">\n",
       "  <thead>\n",
       "    <tr style=\"text-align: right;\">\n",
       "      <th></th>\n",
       "      <th>german_army</th>\n",
       "      <th>allied_army</th>\n",
       "    </tr>\n",
       "  </thead>\n",
       "  <tbody>\n",
       "    <tr>\n",
       "      <th>2014-05-09 23:00:00</th>\n",
       "      <td>29710.0</td>\n",
       "      <td>22768.0</td>\n",
       "    </tr>\n",
       "    <tr>\n",
       "      <th>2014-05-10 00:00:00</th>\n",
       "      <td>20957.0</td>\n",
       "      <td>32525.0</td>\n",
       "    </tr>\n",
       "    <tr>\n",
       "      <th>2014-05-10 01:00:00</th>\n",
       "      <td>24388.0</td>\n",
       "      <td>35062.0</td>\n",
       "    </tr>\n",
       "    <tr>\n",
       "      <th>2014-05-10 02:00:00</th>\n",
       "      <td>25505.0</td>\n",
       "      <td>25570.0</td>\n",
       "    </tr>\n",
       "    <tr>\n",
       "      <th>2014-05-10 03:00:00</th>\n",
       "      <td>NaN</td>\n",
       "      <td>NaN</td>\n",
       "    </tr>\n",
       "  </tbody>\n",
       "</table>\n",
       "</div>"
      ],
      "text/plain": [
       "                     german_army  allied_army\n",
       "2014-05-09 23:00:00      29710.0      22768.0\n",
       "2014-05-10 00:00:00      20957.0      32525.0\n",
       "2014-05-10 01:00:00      24388.0      35062.0\n",
       "2014-05-10 02:00:00      25505.0      25570.0\n",
       "2014-05-10 03:00:00          NaN          NaN"
      ]
     },
     "execution_count": 11,
     "metadata": {},
     "output_type": "execute_result"
    }
   ],
   "source": [
    "df.shift(-1).tail()"
   ]
  },
  {
   "cell_type": "markdown",
   "metadata": {},
   "source": [
    "### Aggregate into days by summing up the value of each hourly observation"
   ]
  },
  {
   "cell_type": "code",
   "execution_count": 28,
   "metadata": {},
   "outputs": [
    {
     "data": {
      "text/html": [
       "<div>\n",
       "<style scoped>\n",
       "    .dataframe tbody tr th:only-of-type {\n",
       "        vertical-align: middle;\n",
       "    }\n",
       "\n",
       "    .dataframe tbody tr th {\n",
       "        vertical-align: top;\n",
       "    }\n",
       "\n",
       "    .dataframe thead th {\n",
       "        text-align: right;\n",
       "    }\n",
       "</style>\n",
       "<table border=\"1\" class=\"dataframe\">\n",
       "  <thead>\n",
       "    <tr style=\"text-align: right;\">\n",
       "      <th></th>\n",
       "      <th>german_army</th>\n",
       "      <th>allied_army</th>\n",
       "    </tr>\n",
       "  </thead>\n",
       "  <tbody>\n",
       "    <tr>\n",
       "      <th>2014-05-31</th>\n",
       "      <td>2498319</td>\n",
       "      <td>3009288</td>\n",
       "    </tr>\n",
       "  </tbody>\n",
       "</table>\n",
       "</div>"
      ],
      "text/plain": [
       "            german_army  allied_army\n",
       "2014-05-31      2498319      3009288"
      ]
     },
     "execution_count": 28,
     "metadata": {},
     "output_type": "execute_result"
    }
   ],
   "source": [
    "df.resample('M').sum()"
   ]
  },
  {
   "cell_type": "code",
   "execution_count": 12,
   "metadata": {},
   "outputs": [
    {
     "data": {
      "text/html": [
       "<div>\n",
       "<style scoped>\n",
       "    .dataframe tbody tr th:only-of-type {\n",
       "        vertical-align: middle;\n",
       "    }\n",
       "\n",
       "    .dataframe tbody tr th {\n",
       "        vertical-align: top;\n",
       "    }\n",
       "\n",
       "    .dataframe thead th {\n",
       "        text-align: right;\n",
       "    }\n",
       "</style>\n",
       "<table border=\"1\" class=\"dataframe\">\n",
       "  <thead>\n",
       "    <tr style=\"text-align: right;\">\n",
       "      <th></th>\n",
       "      <th>german_army</th>\n",
       "      <th>allied_army</th>\n",
       "    </tr>\n",
       "  </thead>\n",
       "  <tbody>\n",
       "    <tr>\n",
       "      <th>2014-05-06</th>\n",
       "      <td>599563</td>\n",
       "      <td>720782</td>\n",
       "    </tr>\n",
       "    <tr>\n",
       "      <th>2014-05-07</th>\n",
       "      <td>606998</td>\n",
       "      <td>705592</td>\n",
       "    </tr>\n",
       "    <tr>\n",
       "      <th>2014-05-08</th>\n",
       "      <td>594189</td>\n",
       "      <td>725481</td>\n",
       "    </tr>\n",
       "    <tr>\n",
       "      <th>2014-05-09</th>\n",
       "      <td>597009</td>\n",
       "      <td>741508</td>\n",
       "    </tr>\n",
       "    <tr>\n",
       "      <th>2014-05-10</th>\n",
       "      <td>100560</td>\n",
       "      <td>115925</td>\n",
       "    </tr>\n",
       "  </tbody>\n",
       "</table>\n",
       "</div>"
      ],
      "text/plain": [
       "            german_army  allied_army\n",
       "2014-05-06       599563       720782\n",
       "2014-05-07       606998       705592\n",
       "2014-05-08       594189       725481\n",
       "2014-05-09       597009       741508\n",
       "2014-05-10       100560       115925"
      ]
     },
     "execution_count": 12,
     "metadata": {},
     "output_type": "execute_result"
    }
   ],
   "source": [
    "df.resample('D').sum()"
   ]
  },
  {
   "cell_type": "markdown",
   "metadata": {},
   "source": [
    "### Aggregate into days by averaging up the value of each hourly observation"
   ]
  },
  {
   "cell_type": "code",
   "execution_count": 13,
   "metadata": {},
   "outputs": [
    {
     "data": {
      "text/html": [
       "<div>\n",
       "<style scoped>\n",
       "    .dataframe tbody tr th:only-of-type {\n",
       "        vertical-align: middle;\n",
       "    }\n",
       "\n",
       "    .dataframe tbody tr th {\n",
       "        vertical-align: top;\n",
       "    }\n",
       "\n",
       "    .dataframe thead th {\n",
       "        text-align: right;\n",
       "    }\n",
       "</style>\n",
       "<table border=\"1\" class=\"dataframe\">\n",
       "  <thead>\n",
       "    <tr style=\"text-align: right;\">\n",
       "      <th></th>\n",
       "      <th>german_army</th>\n",
       "      <th>allied_army</th>\n",
       "    </tr>\n",
       "  </thead>\n",
       "  <tbody>\n",
       "    <tr>\n",
       "      <th>2014-05-06</th>\n",
       "      <td>24981.791667</td>\n",
       "      <td>30032.583333</td>\n",
       "    </tr>\n",
       "    <tr>\n",
       "      <th>2014-05-07</th>\n",
       "      <td>25291.583333</td>\n",
       "      <td>29399.666667</td>\n",
       "    </tr>\n",
       "    <tr>\n",
       "      <th>2014-05-08</th>\n",
       "      <td>24757.875000</td>\n",
       "      <td>30228.375000</td>\n",
       "    </tr>\n",
       "    <tr>\n",
       "      <th>2014-05-09</th>\n",
       "      <td>24875.375000</td>\n",
       "      <td>30896.166667</td>\n",
       "    </tr>\n",
       "    <tr>\n",
       "      <th>2014-05-10</th>\n",
       "      <td>25140.000000</td>\n",
       "      <td>28981.250000</td>\n",
       "    </tr>\n",
       "  </tbody>\n",
       "</table>\n",
       "</div>"
      ],
      "text/plain": [
       "             german_army   allied_army\n",
       "2014-05-06  24981.791667  30032.583333\n",
       "2014-05-07  25291.583333  29399.666667\n",
       "2014-05-08  24757.875000  30228.375000\n",
       "2014-05-09  24875.375000  30896.166667\n",
       "2014-05-10  25140.000000  28981.250000"
      ]
     },
     "execution_count": 13,
     "metadata": {},
     "output_type": "execute_result"
    }
   ],
   "source": [
    "df.resample('D').mean()"
   ]
  },
  {
   "cell_type": "markdown",
   "metadata": {},
   "source": [
    "### Aggregate into days by taking the min value up the value of each hourly observation"
   ]
  },
  {
   "cell_type": "code",
   "execution_count": 14,
   "metadata": {},
   "outputs": [
    {
     "data": {
      "text/html": [
       "<div>\n",
       "<style scoped>\n",
       "    .dataframe tbody tr th:only-of-type {\n",
       "        vertical-align: middle;\n",
       "    }\n",
       "\n",
       "    .dataframe tbody tr th {\n",
       "        vertical-align: top;\n",
       "    }\n",
       "\n",
       "    .dataframe thead th {\n",
       "        text-align: right;\n",
       "    }\n",
       "</style>\n",
       "<table border=\"1\" class=\"dataframe\">\n",
       "  <thead>\n",
       "    <tr style=\"text-align: right;\">\n",
       "      <th></th>\n",
       "      <th>german_army</th>\n",
       "      <th>allied_army</th>\n",
       "    </tr>\n",
       "  </thead>\n",
       "  <tbody>\n",
       "    <tr>\n",
       "      <th>2014-05-06</th>\n",
       "      <td>25020.5</td>\n",
       "      <td>29666.0</td>\n",
       "    </tr>\n",
       "    <tr>\n",
       "      <th>2014-05-07</th>\n",
       "      <td>25111.0</td>\n",
       "      <td>29250.0</td>\n",
       "    </tr>\n",
       "    <tr>\n",
       "      <th>2014-05-08</th>\n",
       "      <td>25367.5</td>\n",
       "      <td>31367.0</td>\n",
       "    </tr>\n",
       "    <tr>\n",
       "      <th>2014-05-09</th>\n",
       "      <td>24806.0</td>\n",
       "      <td>31019.0</td>\n",
       "    </tr>\n",
       "    <tr>\n",
       "      <th>2014-05-10</th>\n",
       "      <td>24946.5</td>\n",
       "      <td>29047.5</td>\n",
       "    </tr>\n",
       "  </tbody>\n",
       "</table>\n",
       "</div>"
      ],
      "text/plain": [
       "            german_army  allied_army\n",
       "2014-05-06      25020.5      29666.0\n",
       "2014-05-07      25111.0      29250.0\n",
       "2014-05-08      25367.5      31367.0\n",
       "2014-05-09      24806.0      31019.0\n",
       "2014-05-10      24946.5      29047.5"
      ]
     },
     "execution_count": 14,
     "metadata": {},
     "output_type": "execute_result"
    }
   ],
   "source": [
    "df.resample('D').median()"
   ]
  },
  {
   "cell_type": "markdown",
   "metadata": {},
   "source": [
    "### Aggregate into days by taking the median value of each day's worth of hourly observation"
   ]
  },
  {
   "cell_type": "code",
   "execution_count": 15,
   "metadata": {},
   "outputs": [
    {
     "data": {
      "text/html": [
       "<div>\n",
       "<style scoped>\n",
       "    .dataframe tbody tr th:only-of-type {\n",
       "        vertical-align: middle;\n",
       "    }\n",
       "\n",
       "    .dataframe tbody tr th {\n",
       "        vertical-align: top;\n",
       "    }\n",
       "\n",
       "    .dataframe thead th {\n",
       "        text-align: right;\n",
       "    }\n",
       "</style>\n",
       "<table border=\"1\" class=\"dataframe\">\n",
       "  <thead>\n",
       "    <tr style=\"text-align: right;\">\n",
       "      <th></th>\n",
       "      <th>german_army</th>\n",
       "      <th>allied_army</th>\n",
       "    </tr>\n",
       "  </thead>\n",
       "  <tbody>\n",
       "    <tr>\n",
       "      <th>2014-05-06</th>\n",
       "      <td>25020.5</td>\n",
       "      <td>29666.0</td>\n",
       "    </tr>\n",
       "    <tr>\n",
       "      <th>2014-05-07</th>\n",
       "      <td>25111.0</td>\n",
       "      <td>29250.0</td>\n",
       "    </tr>\n",
       "    <tr>\n",
       "      <th>2014-05-08</th>\n",
       "      <td>25367.5</td>\n",
       "      <td>31367.0</td>\n",
       "    </tr>\n",
       "    <tr>\n",
       "      <th>2014-05-09</th>\n",
       "      <td>24806.0</td>\n",
       "      <td>31019.0</td>\n",
       "    </tr>\n",
       "    <tr>\n",
       "      <th>2014-05-10</th>\n",
       "      <td>24946.5</td>\n",
       "      <td>29047.5</td>\n",
       "    </tr>\n",
       "  </tbody>\n",
       "</table>\n",
       "</div>"
      ],
      "text/plain": [
       "            german_army  allied_army\n",
       "2014-05-06      25020.5      29666.0\n",
       "2014-05-07      25111.0      29250.0\n",
       "2014-05-08      25367.5      31367.0\n",
       "2014-05-09      24806.0      31019.0\n",
       "2014-05-10      24946.5      29047.5"
      ]
     },
     "execution_count": 15,
     "metadata": {},
     "output_type": "execute_result"
    }
   ],
   "source": [
    "df.resample('D').median()"
   ]
  },
  {
   "cell_type": "markdown",
   "metadata": {},
   "source": [
    "### Aggregate into days by taking the first value of each day's worth of hourly observation"
   ]
  },
  {
   "cell_type": "code",
   "execution_count": 16,
   "metadata": {},
   "outputs": [
    {
     "data": {
      "text/html": [
       "<div>\n",
       "<style scoped>\n",
       "    .dataframe tbody tr th:only-of-type {\n",
       "        vertical-align: middle;\n",
       "    }\n",
       "\n",
       "    .dataframe tbody tr th {\n",
       "        vertical-align: top;\n",
       "    }\n",
       "\n",
       "    .dataframe thead th {\n",
       "        text-align: right;\n",
       "    }\n",
       "</style>\n",
       "<table border=\"1\" class=\"dataframe\">\n",
       "  <thead>\n",
       "    <tr style=\"text-align: right;\">\n",
       "      <th></th>\n",
       "      <th>german_army</th>\n",
       "      <th>allied_army</th>\n",
       "    </tr>\n",
       "  </thead>\n",
       "  <tbody>\n",
       "    <tr>\n",
       "      <th>2014-05-06</th>\n",
       "      <td>20266</td>\n",
       "      <td>20468</td>\n",
       "    </tr>\n",
       "    <tr>\n",
       "      <th>2014-05-07</th>\n",
       "      <td>27252</td>\n",
       "      <td>24627</td>\n",
       "    </tr>\n",
       "    <tr>\n",
       "      <th>2014-05-08</th>\n",
       "      <td>27177</td>\n",
       "      <td>34310</td>\n",
       "    </tr>\n",
       "    <tr>\n",
       "      <th>2014-05-09</th>\n",
       "      <td>27677</td>\n",
       "      <td>28334</td>\n",
       "    </tr>\n",
       "    <tr>\n",
       "      <th>2014-05-10</th>\n",
       "      <td>29710</td>\n",
       "      <td>22768</td>\n",
       "    </tr>\n",
       "  </tbody>\n",
       "</table>\n",
       "</div>"
      ],
      "text/plain": [
       "            german_army  allied_army\n",
       "2014-05-06        20266        20468\n",
       "2014-05-07        27252        24627\n",
       "2014-05-08        27177        34310\n",
       "2014-05-09        27677        28334\n",
       "2014-05-10        29710        22768"
      ]
     },
     "execution_count": 16,
     "metadata": {},
     "output_type": "execute_result"
    }
   ],
   "source": [
    "df.resample('D').first()"
   ]
  },
  {
   "cell_type": "markdown",
   "metadata": {},
   "source": [
    "### Aggregate into days by taking the last value of each day's worth of hourly observation"
   ]
  },
  {
   "cell_type": "code",
   "execution_count": 17,
   "metadata": {},
   "outputs": [
    {
     "data": {
      "text/html": [
       "<div>\n",
       "<style scoped>\n",
       "    .dataframe tbody tr th:only-of-type {\n",
       "        vertical-align: middle;\n",
       "    }\n",
       "\n",
       "    .dataframe tbody tr th {\n",
       "        vertical-align: top;\n",
       "    }\n",
       "\n",
       "    .dataframe thead th {\n",
       "        text-align: right;\n",
       "    }\n",
       "</style>\n",
       "<table border=\"1\" class=\"dataframe\">\n",
       "  <thead>\n",
       "    <tr style=\"text-align: right;\">\n",
       "      <th></th>\n",
       "      <th>german_army</th>\n",
       "      <th>allied_army</th>\n",
       "    </tr>\n",
       "  </thead>\n",
       "  <tbody>\n",
       "    <tr>\n",
       "      <th>2014-05-06</th>\n",
       "      <td>27507</td>\n",
       "      <td>34162</td>\n",
       "    </tr>\n",
       "    <tr>\n",
       "      <th>2014-05-07</th>\n",
       "      <td>29109</td>\n",
       "      <td>31078</td>\n",
       "    </tr>\n",
       "    <tr>\n",
       "      <th>2014-05-08</th>\n",
       "      <td>22316</td>\n",
       "      <td>29992</td>\n",
       "    </tr>\n",
       "    <tr>\n",
       "      <th>2014-05-09</th>\n",
       "      <td>22068</td>\n",
       "      <td>25117</td>\n",
       "    </tr>\n",
       "    <tr>\n",
       "      <th>2014-05-10</th>\n",
       "      <td>25505</td>\n",
       "      <td>25570</td>\n",
       "    </tr>\n",
       "  </tbody>\n",
       "</table>\n",
       "</div>"
      ],
      "text/plain": [
       "            german_army  allied_army\n",
       "2014-05-06        27507        34162\n",
       "2014-05-07        29109        31078\n",
       "2014-05-08        22316        29992\n",
       "2014-05-09        22068        25117\n",
       "2014-05-10        25505        25570"
      ]
     },
     "execution_count": 17,
     "metadata": {},
     "output_type": "execute_result"
    }
   ],
   "source": [
    "df.resample('D').last()"
   ]
  },
  {
   "cell_type": "markdown",
   "metadata": {},
   "source": [
    "### Aggregate into days by taking the first, last, highest, and lowest value of each day's worth of hourly observation"
   ]
  },
  {
   "cell_type": "code",
   "execution_count": 33,
   "metadata": {},
   "outputs": [
    {
     "data": {
      "text/html": [
       "<div>\n",
       "<style scoped>\n",
       "    .dataframe tbody tr th:only-of-type {\n",
       "        vertical-align: middle;\n",
       "    }\n",
       "\n",
       "    .dataframe tbody tr th {\n",
       "        vertical-align: top;\n",
       "    }\n",
       "\n",
       "    .dataframe thead tr th {\n",
       "        text-align: left;\n",
       "    }\n",
       "</style>\n",
       "<table border=\"1\" class=\"dataframe\">\n",
       "  <thead>\n",
       "    <tr>\n",
       "      <th></th>\n",
       "      <th colspan=\"4\" halign=\"left\">german_army</th>\n",
       "      <th colspan=\"4\" halign=\"left\">allied_army</th>\n",
       "    </tr>\n",
       "    <tr>\n",
       "      <th></th>\n",
       "      <th>open</th>\n",
       "      <th>high</th>\n",
       "      <th>low</th>\n",
       "      <th>close</th>\n",
       "      <th>open</th>\n",
       "      <th>high</th>\n",
       "      <th>low</th>\n",
       "      <th>close</th>\n",
       "    </tr>\n",
       "  </thead>\n",
       "  <tbody>\n",
       "    <tr>\n",
       "      <th>2014-05-06</th>\n",
       "      <td>20266</td>\n",
       "      <td>29076</td>\n",
       "      <td>20266</td>\n",
       "      <td>27507</td>\n",
       "      <td>20468</td>\n",
       "      <td>39794</td>\n",
       "      <td>20011</td>\n",
       "      <td>34162</td>\n",
       "    </tr>\n",
       "    <tr>\n",
       "      <th>2014-05-07</th>\n",
       "      <td>27252</td>\n",
       "      <td>29492</td>\n",
       "      <td>20636</td>\n",
       "      <td>29109</td>\n",
       "      <td>24627</td>\n",
       "      <td>38590</td>\n",
       "      <td>20941</td>\n",
       "      <td>31078</td>\n",
       "    </tr>\n",
       "    <tr>\n",
       "      <th>2014-05-08</th>\n",
       "      <td>27177</td>\n",
       "      <td>29320</td>\n",
       "      <td>20016</td>\n",
       "      <td>22316</td>\n",
       "      <td>34310</td>\n",
       "      <td>39354</td>\n",
       "      <td>20001</td>\n",
       "      <td>29992</td>\n",
       "    </tr>\n",
       "    <tr>\n",
       "      <th>2014-05-09</th>\n",
       "      <td>27677</td>\n",
       "      <td>29987</td>\n",
       "      <td>20648</td>\n",
       "      <td>22068</td>\n",
       "      <td>28334</td>\n",
       "      <td>39662</td>\n",
       "      <td>22189</td>\n",
       "      <td>25117</td>\n",
       "    </tr>\n",
       "    <tr>\n",
       "      <th>2014-05-10</th>\n",
       "      <td>29710</td>\n",
       "      <td>29710</td>\n",
       "      <td>20957</td>\n",
       "      <td>25505</td>\n",
       "      <td>22768</td>\n",
       "      <td>35062</td>\n",
       "      <td>22768</td>\n",
       "      <td>25570</td>\n",
       "    </tr>\n",
       "  </tbody>\n",
       "</table>\n",
       "</div>"
      ],
      "text/plain": [
       "           german_army                      allied_army                     \n",
       "                  open   high    low  close        open   high    low  close\n",
       "2014-05-06       20266  29076  20266  27507       20468  39794  20011  34162\n",
       "2014-05-07       27252  29492  20636  29109       24627  38590  20941  31078\n",
       "2014-05-08       27177  29320  20016  22316       34310  39354  20001  29992\n",
       "2014-05-09       27677  29987  20648  22068       28334  39662  22189  25117\n",
       "2014-05-10       29710  29710  20957  25505       22768  35062  22768  25570"
      ]
     },
     "execution_count": 33,
     "metadata": {},
     "output_type": "execute_result"
    }
   ],
   "source": [
    "df.resample('D').ohlc()"
   ]
  }
 ],
 "metadata": {
  "kernelspec": {
   "display_name": "Python 3",
   "language": "python",
   "name": "python3"
  },
  "language_info": {
   "codemirror_mode": {
    "name": "ipython",
    "version": 3
   },
   "file_extension": ".py",
   "mimetype": "text/x-python",
   "name": "python",
   "nbconvert_exporter": "python",
   "pygments_lexer": "ipython3",
   "version": "3.6.6"
  }
 },
 "nbformat": 4,
 "nbformat_minor": 1
}
