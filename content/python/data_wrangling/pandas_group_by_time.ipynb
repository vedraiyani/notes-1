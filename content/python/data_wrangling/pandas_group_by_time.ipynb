{
 "cells": [
  {
   "cell_type": "raw",
   "metadata": {},
   "source": [
    "---\n",
    "title: \"Group A Time Series With pandas\"\n",
    "author: \"Chris Albon\"\n",
    "date: 2017-12-20T11:53:49-07:00\n",
    "description: \"Group a time series with pandas.\"\n",
    "type: technical_note\n",
    "draft: false\n",
    "---"
   ]
  },
  {
   "cell_type": "markdown",
   "metadata": {},
   "source": [
    "### Import required modules"
   ]
  },
  {
   "cell_type": "code",
   "execution_count": 79,
   "metadata": {},
   "outputs": [],
   "source": [
    "from IPython.core.interactiveshell import InteractiveShell\n",
    "InteractiveShell.ast_node_interactivity='all'"
   ]
  },
  {
   "cell_type": "code",
   "execution_count": 80,
   "metadata": {},
   "outputs": [],
   "source": [
    "import pandas as pd\n",
    "import numpy as np"
   ]
  },
  {
   "cell_type": "markdown",
   "metadata": {},
   "source": [
    "### Create a dataframe"
   ]
  },
  {
   "cell_type": "code",
   "execution_count": 81,
   "metadata": {},
   "outputs": [
    {
     "data": {
      "text/html": [
       "<div>\n",
       "<style scoped>\n",
       "    .dataframe tbody tr th:only-of-type {\n",
       "        vertical-align: middle;\n",
       "    }\n",
       "\n",
       "    .dataframe tbody tr th {\n",
       "        vertical-align: top;\n",
       "    }\n",
       "\n",
       "    .dataframe thead th {\n",
       "        text-align: right;\n",
       "    }\n",
       "</style>\n",
       "<table border=\"1\" class=\"dataframe\">\n",
       "  <thead>\n",
       "    <tr style=\"text-align: right;\">\n",
       "      <th></th>\n",
       "      <th>german_army</th>\n",
       "      <th>allied_army</th>\n",
       "    </tr>\n",
       "  </thead>\n",
       "  <tbody>\n",
       "    <tr>\n",
       "      <th>2014-01-01 00:00:00</th>\n",
       "      <td>21676</td>\n",
       "      <td>21974</td>\n",
       "    </tr>\n",
       "    <tr>\n",
       "      <th>2014-01-01 01:00:00</th>\n",
       "      <td>27294</td>\n",
       "      <td>36775</td>\n",
       "    </tr>\n",
       "    <tr>\n",
       "      <th>2014-01-01 02:00:00</th>\n",
       "      <td>29855</td>\n",
       "      <td>29978</td>\n",
       "    </tr>\n",
       "    <tr>\n",
       "      <th>2014-01-01 03:00:00</th>\n",
       "      <td>28393</td>\n",
       "      <td>27714</td>\n",
       "    </tr>\n",
       "    <tr>\n",
       "      <th>2014-01-01 04:00:00</th>\n",
       "      <td>29806</td>\n",
       "      <td>34676</td>\n",
       "    </tr>\n",
       "  </tbody>\n",
       "</table>\n",
       "</div>"
      ],
      "text/plain": [
       "                     german_army  allied_army\n",
       "2014-01-01 00:00:00        21676        21974\n",
       "2014-01-01 01:00:00        27294        36775\n",
       "2014-01-01 02:00:00        29855        29978\n",
       "2014-01-01 03:00:00        28393        27714\n",
       "2014-01-01 04:00:00        29806        34676"
      ]
     },
     "execution_count": 81,
     "metadata": {},
     "output_type": "execute_result"
    }
   ],
   "source": [
    "df = pd.DataFrame()\n",
    "\n",
    "df['german_army'] = np.random.randint(low=20000, high=30000, size=100)\n",
    "df['allied_army'] = np.random.randint(low=20000, high=40000, size=100)\n",
    "df.index = pd.date_range('1/1/2014', periods=100, freq='H')\n",
    "\n",
    "df.head()"
   ]
  },
  {
   "cell_type": "markdown",
   "metadata": {},
   "source": [
    "### Truncate the dataframe"
   ]
  },
  {
   "cell_type": "code",
   "execution_count": 82,
   "metadata": {},
   "outputs": [
    {
     "data": {
      "text/html": [
       "<div>\n",
       "<style scoped>\n",
       "    .dataframe tbody tr th:only-of-type {\n",
       "        vertical-align: middle;\n",
       "    }\n",
       "\n",
       "    .dataframe tbody tr th {\n",
       "        vertical-align: top;\n",
       "    }\n",
       "\n",
       "    .dataframe thead th {\n",
       "        text-align: right;\n",
       "    }\n",
       "</style>\n",
       "<table border=\"1\" class=\"dataframe\">\n",
       "  <thead>\n",
       "    <tr style=\"text-align: right;\">\n",
       "      <th></th>\n",
       "      <th>german_army</th>\n",
       "      <th>allied_army</th>\n",
       "    </tr>\n",
       "  </thead>\n",
       "  <tbody>\n",
       "    <tr>\n",
       "      <th>2014-01-02 00:00:00</th>\n",
       "      <td>25083</td>\n",
       "      <td>22089</td>\n",
       "    </tr>\n",
       "    <tr>\n",
       "      <th>2014-01-02 01:00:00</th>\n",
       "      <td>25898</td>\n",
       "      <td>39260</td>\n",
       "    </tr>\n",
       "    <tr>\n",
       "      <th>2014-01-02 02:00:00</th>\n",
       "      <td>21390</td>\n",
       "      <td>21209</td>\n",
       "    </tr>\n",
       "    <tr>\n",
       "      <th>2014-01-02 03:00:00</th>\n",
       "      <td>29456</td>\n",
       "      <td>30469</td>\n",
       "    </tr>\n",
       "    <tr>\n",
       "      <th>2014-01-02 04:00:00</th>\n",
       "      <td>28623</td>\n",
       "      <td>38935</td>\n",
       "    </tr>\n",
       "    <tr>\n",
       "      <th>2014-01-02 05:00:00</th>\n",
       "      <td>26690</td>\n",
       "      <td>27430</td>\n",
       "    </tr>\n",
       "    <tr>\n",
       "      <th>2014-01-02 06:00:00</th>\n",
       "      <td>24912</td>\n",
       "      <td>32044</td>\n",
       "    </tr>\n",
       "    <tr>\n",
       "      <th>2014-01-02 07:00:00</th>\n",
       "      <td>23713</td>\n",
       "      <td>25518</td>\n",
       "    </tr>\n",
       "    <tr>\n",
       "      <th>2014-01-02 08:00:00</th>\n",
       "      <td>26113</td>\n",
       "      <td>29504</td>\n",
       "    </tr>\n",
       "    <tr>\n",
       "      <th>2014-01-02 09:00:00</th>\n",
       "      <td>20257</td>\n",
       "      <td>27308</td>\n",
       "    </tr>\n",
       "    <tr>\n",
       "      <th>2014-01-02 10:00:00</th>\n",
       "      <td>24919</td>\n",
       "      <td>30981</td>\n",
       "    </tr>\n",
       "    <tr>\n",
       "      <th>2014-01-02 11:00:00</th>\n",
       "      <td>20479</td>\n",
       "      <td>30304</td>\n",
       "    </tr>\n",
       "    <tr>\n",
       "      <th>2014-01-02 12:00:00</th>\n",
       "      <td>24375</td>\n",
       "      <td>21767</td>\n",
       "    </tr>\n",
       "    <tr>\n",
       "      <th>2014-01-02 13:00:00</th>\n",
       "      <td>27910</td>\n",
       "      <td>33591</td>\n",
       "    </tr>\n",
       "    <tr>\n",
       "      <th>2014-01-02 14:00:00</th>\n",
       "      <td>28816</td>\n",
       "      <td>28114</td>\n",
       "    </tr>\n",
       "    <tr>\n",
       "      <th>2014-01-02 15:00:00</th>\n",
       "      <td>24707</td>\n",
       "      <td>38870</td>\n",
       "    </tr>\n",
       "    <tr>\n",
       "      <th>2014-01-02 16:00:00</th>\n",
       "      <td>22815</td>\n",
       "      <td>39053</td>\n",
       "    </tr>\n",
       "    <tr>\n",
       "      <th>2014-01-02 17:00:00</th>\n",
       "      <td>21119</td>\n",
       "      <td>31302</td>\n",
       "    </tr>\n",
       "    <tr>\n",
       "      <th>2014-01-02 18:00:00</th>\n",
       "      <td>20816</td>\n",
       "      <td>36810</td>\n",
       "    </tr>\n",
       "    <tr>\n",
       "      <th>2014-01-02 19:00:00</th>\n",
       "      <td>21300</td>\n",
       "      <td>20634</td>\n",
       "    </tr>\n",
       "    <tr>\n",
       "      <th>2014-01-02 20:00:00</th>\n",
       "      <td>20644</td>\n",
       "      <td>36265</td>\n",
       "    </tr>\n",
       "    <tr>\n",
       "      <th>2014-01-02 21:00:00</th>\n",
       "      <td>28186</td>\n",
       "      <td>29863</td>\n",
       "    </tr>\n",
       "    <tr>\n",
       "      <th>2014-01-02 22:00:00</th>\n",
       "      <td>26966</td>\n",
       "      <td>30068</td>\n",
       "    </tr>\n",
       "    <tr>\n",
       "      <th>2014-01-02 23:00:00</th>\n",
       "      <td>22520</td>\n",
       "      <td>33413</td>\n",
       "    </tr>\n",
       "    <tr>\n",
       "      <th>2014-01-03 00:00:00</th>\n",
       "      <td>25200</td>\n",
       "      <td>33260</td>\n",
       "    </tr>\n",
       "  </tbody>\n",
       "</table>\n",
       "</div>"
      ],
      "text/plain": [
       "                     german_army  allied_army\n",
       "2014-01-02 00:00:00        25083        22089\n",
       "2014-01-02 01:00:00        25898        39260\n",
       "2014-01-02 02:00:00        21390        21209\n",
       "2014-01-02 03:00:00        29456        30469\n",
       "2014-01-02 04:00:00        28623        38935\n",
       "2014-01-02 05:00:00        26690        27430\n",
       "2014-01-02 06:00:00        24912        32044\n",
       "2014-01-02 07:00:00        23713        25518\n",
       "2014-01-02 08:00:00        26113        29504\n",
       "2014-01-02 09:00:00        20257        27308\n",
       "2014-01-02 10:00:00        24919        30981\n",
       "2014-01-02 11:00:00        20479        30304\n",
       "2014-01-02 12:00:00        24375        21767\n",
       "2014-01-02 13:00:00        27910        33591\n",
       "2014-01-02 14:00:00        28816        28114\n",
       "2014-01-02 15:00:00        24707        38870\n",
       "2014-01-02 16:00:00        22815        39053\n",
       "2014-01-02 17:00:00        21119        31302\n",
       "2014-01-02 18:00:00        20816        36810\n",
       "2014-01-02 19:00:00        21300        20634\n",
       "2014-01-02 20:00:00        20644        36265\n",
       "2014-01-02 21:00:00        28186        29863\n",
       "2014-01-02 22:00:00        26966        30068\n",
       "2014-01-02 23:00:00        22520        33413\n",
       "2014-01-03 00:00:00        25200        33260"
      ]
     },
     "execution_count": 82,
     "metadata": {},
     "output_type": "execute_result"
    }
   ],
   "source": [
    "tdf=df.truncate(before='1/2/2014', after='1/3/2014')\n",
    "tdf"
   ]
  },
  {
   "cell_type": "code",
   "execution_count": 83,
   "metadata": {},
   "outputs": [
    {
     "data": {
      "text/plain": [
       "50"
      ]
     },
     "execution_count": 83,
     "metadata": {},
     "output_type": "execute_result"
    },
    {
     "data": {
      "text/plain": [
       "50"
      ]
     },
     "execution_count": 83,
     "metadata": {},
     "output_type": "execute_result"
    },
    {
     "data": {
      "text/plain": [
       "50"
      ]
     },
     "execution_count": 83,
     "metadata": {},
     "output_type": "execute_result"
    },
    {
     "data": {
      "text/plain": [
       "50"
      ]
     },
     "execution_count": 83,
     "metadata": {},
     "output_type": "execute_result"
    }
   ],
   "source": [
    "tdf.size\n",
    "df['1/2/2014':'1/3/2014 00'].size\n",
    "df['1/2/2014':'2014-01-03 00'].size\n",
    "df['2014-01-02':'2014-01-03 00'].size"
   ]
  },
  {
   "cell_type": "markdown",
   "metadata": {},
   "source": [
    "### Set the dataframe's index"
   ]
  },
  {
   "cell_type": "code",
   "execution_count": 84,
   "metadata": {},
   "outputs": [
    {
     "data": {
      "text/html": [
       "<div>\n",
       "<style scoped>\n",
       "    .dataframe tbody tr th:only-of-type {\n",
       "        vertical-align: middle;\n",
       "    }\n",
       "\n",
       "    .dataframe tbody tr th {\n",
       "        vertical-align: top;\n",
       "    }\n",
       "\n",
       "    .dataframe thead th {\n",
       "        text-align: right;\n",
       "    }\n",
       "</style>\n",
       "<table border=\"1\" class=\"dataframe\">\n",
       "  <thead>\n",
       "    <tr style=\"text-align: right;\">\n",
       "      <th></th>\n",
       "      <th>german_army</th>\n",
       "      <th>allied_army</th>\n",
       "    </tr>\n",
       "  </thead>\n",
       "  <tbody>\n",
       "    <tr>\n",
       "      <th>2014-01-01 00:00:00</th>\n",
       "      <td>21676</td>\n",
       "      <td>21974</td>\n",
       "    </tr>\n",
       "    <tr>\n",
       "      <th>2014-01-01 01:00:00</th>\n",
       "      <td>27294</td>\n",
       "      <td>36775</td>\n",
       "    </tr>\n",
       "    <tr>\n",
       "      <th>2014-01-01 02:00:00</th>\n",
       "      <td>29855</td>\n",
       "      <td>29978</td>\n",
       "    </tr>\n",
       "    <tr>\n",
       "      <th>2014-01-01 03:00:00</th>\n",
       "      <td>28393</td>\n",
       "      <td>27714</td>\n",
       "    </tr>\n",
       "    <tr>\n",
       "      <th>2014-01-01 04:00:00</th>\n",
       "      <td>29806</td>\n",
       "      <td>34676</td>\n",
       "    </tr>\n",
       "  </tbody>\n",
       "</table>\n",
       "</div>"
      ],
      "text/plain": [
       "                     german_army  allied_army\n",
       "2014-01-01 00:00:00        21676        21974\n",
       "2014-01-01 01:00:00        27294        36775\n",
       "2014-01-01 02:00:00        29855        29978\n",
       "2014-01-01 03:00:00        28393        27714\n",
       "2014-01-01 04:00:00        29806        34676"
      ]
     },
     "execution_count": 84,
     "metadata": {},
     "output_type": "execute_result"
    }
   ],
   "source": [
    "df.head()"
   ]
  },
  {
   "cell_type": "code",
   "execution_count": 111,
   "metadata": {},
   "outputs": [],
   "source": [
    "df.index = df.index + pd.DateOffset(months=4, days=5)\n",
    "# df.index = df.index + pd.DateOffset(months=4, days=5,years=1,hours=1,minutes=1,seconds=1)"
   ]
  },
  {
   "cell_type": "code",
   "execution_count": 128,
   "metadata": {},
   "outputs": [
    {
     "data": {
      "text/plain": [
       "DatetimeIndex(['2023-10-25 04:03:02', '2023-10-25 05:03:02',\n",
       "               '2023-10-25 06:03:02', '2023-10-25 07:03:02',\n",
       "               '2023-10-25 08:03:02'],\n",
       "              dtype='datetime64[ns]', freq='H')"
      ]
     },
     "execution_count": 128,
     "metadata": {},
     "output_type": "execute_result"
    },
    {
     "data": {
      "text/plain": [
       "{2023}"
      ]
     },
     "execution_count": 128,
     "metadata": {},
     "output_type": "execute_result"
    },
    {
     "data": {
      "text/plain": [
       "{10}"
      ]
     },
     "execution_count": 128,
     "metadata": {},
     "output_type": "execute_result"
    },
    {
     "data": {
      "text/plain": [
       "{25, 26, 27, 28, 29}"
      ]
     },
     "execution_count": 128,
     "metadata": {},
     "output_type": "execute_result"
    },
    {
     "data": {
      "text/plain": [
       "{0,\n",
       " 1,\n",
       " 2,\n",
       " 3,\n",
       " 4,\n",
       " 5,\n",
       " 6,\n",
       " 7,\n",
       " 8,\n",
       " 9,\n",
       " 10,\n",
       " 11,\n",
       " 12,\n",
       " 13,\n",
       " 14,\n",
       " 15,\n",
       " 16,\n",
       " 17,\n",
       " 18,\n",
       " 19,\n",
       " 20,\n",
       " 21,\n",
       " 22,\n",
       " 23}"
      ]
     },
     "execution_count": 128,
     "metadata": {},
     "output_type": "execute_result"
    },
    {
     "data": {
      "text/plain": [
       "{3}"
      ]
     },
     "execution_count": 128,
     "metadata": {},
     "output_type": "execute_result"
    },
    {
     "data": {
      "text/plain": [
       "{2}"
      ]
     },
     "execution_count": 128,
     "metadata": {},
     "output_type": "execute_result"
    },
    {
     "data": {
      "text/plain": [
       "24"
      ]
     },
     "execution_count": 128,
     "metadata": {},
     "output_type": "execute_result"
    }
   ],
   "source": [
    "df.index[:5]\n",
    "set(df.index.year)\n",
    "set(df.index.month)\n",
    "set(df.index.day)\n",
    "set(df.index.hour)\n",
    "set(df.index.minute)\n",
    "set(df.index.second)\n",
    "len(set(df.index.hour))"
   ]
  },
  {
   "cell_type": "markdown",
   "metadata": {},
   "source": [
    "### View the dataframe"
   ]
  },
  {
   "cell_type": "code",
   "execution_count": 110,
   "metadata": {},
   "outputs": [
    {
     "data": {
      "text/html": [
       "<div>\n",
       "<style scoped>\n",
       "    .dataframe tbody tr th:only-of-type {\n",
       "        vertical-align: middle;\n",
       "    }\n",
       "\n",
       "    .dataframe tbody tr th {\n",
       "        vertical-align: top;\n",
       "    }\n",
       "\n",
       "    .dataframe thead th {\n",
       "        text-align: right;\n",
       "    }\n",
       "</style>\n",
       "<table border=\"1\" class=\"dataframe\">\n",
       "  <thead>\n",
       "    <tr style=\"text-align: right;\">\n",
       "      <th></th>\n",
       "      <th>german_army</th>\n",
       "      <th>allied_army</th>\n",
       "    </tr>\n",
       "  </thead>\n",
       "  <tbody>\n",
       "    <tr>\n",
       "      <th>2023-06-20 04:03:02</th>\n",
       "      <td>21676</td>\n",
       "      <td>21974</td>\n",
       "    </tr>\n",
       "    <tr>\n",
       "      <th>2023-06-20 05:03:02</th>\n",
       "      <td>27294</td>\n",
       "      <td>36775</td>\n",
       "    </tr>\n",
       "    <tr>\n",
       "      <th>2023-06-20 06:03:02</th>\n",
       "      <td>29855</td>\n",
       "      <td>29978</td>\n",
       "    </tr>\n",
       "    <tr>\n",
       "      <th>2023-06-20 07:03:02</th>\n",
       "      <td>28393</td>\n",
       "      <td>27714</td>\n",
       "    </tr>\n",
       "    <tr>\n",
       "      <th>2023-06-20 08:03:02</th>\n",
       "      <td>29806</td>\n",
       "      <td>34676</td>\n",
       "    </tr>\n",
       "  </tbody>\n",
       "</table>\n",
       "</div>"
      ],
      "text/plain": [
       "                     german_army  allied_army\n",
       "2023-06-20 04:03:02        21676        21974\n",
       "2023-06-20 05:03:02        27294        36775\n",
       "2023-06-20 06:03:02        29855        29978\n",
       "2023-06-20 07:03:02        28393        27714\n",
       "2023-06-20 08:03:02        29806        34676"
      ]
     },
     "execution_count": 110,
     "metadata": {},
     "output_type": "execute_result"
    }
   ],
   "source": [
    "df.head()"
   ]
  },
  {
   "cell_type": "markdown",
   "metadata": {},
   "source": [
    "### Lead a variable 1 hour"
   ]
  },
  {
   "cell_type": "code",
   "execution_count": 88,
   "metadata": {},
   "outputs": [
    {
     "data": {
      "text/html": [
       "<div>\n",
       "<style scoped>\n",
       "    .dataframe tbody tr th:only-of-type {\n",
       "        vertical-align: middle;\n",
       "    }\n",
       "\n",
       "    .dataframe tbody tr th {\n",
       "        vertical-align: top;\n",
       "    }\n",
       "\n",
       "    .dataframe thead th {\n",
       "        text-align: right;\n",
       "    }\n",
       "</style>\n",
       "<table border=\"1\" class=\"dataframe\">\n",
       "  <thead>\n",
       "    <tr style=\"text-align: right;\">\n",
       "      <th></th>\n",
       "      <th>german_army</th>\n",
       "      <th>allied_army</th>\n",
       "    </tr>\n",
       "  </thead>\n",
       "  <tbody>\n",
       "    <tr>\n",
       "      <th>2014-05-06 00:00:00</th>\n",
       "      <td>NaN</td>\n",
       "      <td>NaN</td>\n",
       "    </tr>\n",
       "    <tr>\n",
       "      <th>2014-05-06 01:00:00</th>\n",
       "      <td>21676.0</td>\n",
       "      <td>21974.0</td>\n",
       "    </tr>\n",
       "    <tr>\n",
       "      <th>2014-05-06 02:00:00</th>\n",
       "      <td>27294.0</td>\n",
       "      <td>36775.0</td>\n",
       "    </tr>\n",
       "    <tr>\n",
       "      <th>2014-05-06 03:00:00</th>\n",
       "      <td>29855.0</td>\n",
       "      <td>29978.0</td>\n",
       "    </tr>\n",
       "    <tr>\n",
       "      <th>2014-05-06 04:00:00</th>\n",
       "      <td>28393.0</td>\n",
       "      <td>27714.0</td>\n",
       "    </tr>\n",
       "  </tbody>\n",
       "</table>\n",
       "</div>"
      ],
      "text/plain": [
       "                     german_army  allied_army\n",
       "2014-05-06 00:00:00          NaN          NaN\n",
       "2014-05-06 01:00:00      21676.0      21974.0\n",
       "2014-05-06 02:00:00      27294.0      36775.0\n",
       "2014-05-06 03:00:00      29855.0      29978.0\n",
       "2014-05-06 04:00:00      28393.0      27714.0"
      ]
     },
     "execution_count": 88,
     "metadata": {},
     "output_type": "execute_result"
    }
   ],
   "source": [
    "df.shift(1).head()"
   ]
  },
  {
   "cell_type": "markdown",
   "metadata": {},
   "source": [
    "### Lag a variable 1 hour"
   ]
  },
  {
   "cell_type": "code",
   "execution_count": 89,
   "metadata": {},
   "outputs": [
    {
     "data": {
      "text/html": [
       "<div>\n",
       "<style scoped>\n",
       "    .dataframe tbody tr th:only-of-type {\n",
       "        vertical-align: middle;\n",
       "    }\n",
       "\n",
       "    .dataframe tbody tr th {\n",
       "        vertical-align: top;\n",
       "    }\n",
       "\n",
       "    .dataframe thead th {\n",
       "        text-align: right;\n",
       "    }\n",
       "</style>\n",
       "<table border=\"1\" class=\"dataframe\">\n",
       "  <thead>\n",
       "    <tr style=\"text-align: right;\">\n",
       "      <th></th>\n",
       "      <th>german_army</th>\n",
       "      <th>allied_army</th>\n",
       "    </tr>\n",
       "  </thead>\n",
       "  <tbody>\n",
       "    <tr>\n",
       "      <th>2014-05-09 23:00:00</th>\n",
       "      <td>23947.0</td>\n",
       "      <td>21194.0</td>\n",
       "    </tr>\n",
       "    <tr>\n",
       "      <th>2014-05-10 00:00:00</th>\n",
       "      <td>22804.0</td>\n",
       "      <td>37565.0</td>\n",
       "    </tr>\n",
       "    <tr>\n",
       "      <th>2014-05-10 01:00:00</th>\n",
       "      <td>27091.0</td>\n",
       "      <td>28424.0</td>\n",
       "    </tr>\n",
       "    <tr>\n",
       "      <th>2014-05-10 02:00:00</th>\n",
       "      <td>27888.0</td>\n",
       "      <td>28022.0</td>\n",
       "    </tr>\n",
       "    <tr>\n",
       "      <th>2014-05-10 03:00:00</th>\n",
       "      <td>NaN</td>\n",
       "      <td>NaN</td>\n",
       "    </tr>\n",
       "  </tbody>\n",
       "</table>\n",
       "</div>"
      ],
      "text/plain": [
       "                     german_army  allied_army\n",
       "2014-05-09 23:00:00      23947.0      21194.0\n",
       "2014-05-10 00:00:00      22804.0      37565.0\n",
       "2014-05-10 01:00:00      27091.0      28424.0\n",
       "2014-05-10 02:00:00      27888.0      28022.0\n",
       "2014-05-10 03:00:00          NaN          NaN"
      ]
     },
     "execution_count": 89,
     "metadata": {},
     "output_type": "execute_result"
    }
   ],
   "source": [
    "df.shift(-1).tail()"
   ]
  },
  {
   "cell_type": "markdown",
   "metadata": {},
   "source": [
    "### Aggregate into days by summing up the value of each hourly observation"
   ]
  },
  {
   "cell_type": "code",
   "execution_count": 90,
   "metadata": {},
   "outputs": [
    {
     "data": {
      "text/html": [
       "<div>\n",
       "<style scoped>\n",
       "    .dataframe tbody tr th:only-of-type {\n",
       "        vertical-align: middle;\n",
       "    }\n",
       "\n",
       "    .dataframe tbody tr th {\n",
       "        vertical-align: top;\n",
       "    }\n",
       "\n",
       "    .dataframe thead th {\n",
       "        text-align: right;\n",
       "    }\n",
       "</style>\n",
       "<table border=\"1\" class=\"dataframe\">\n",
       "  <thead>\n",
       "    <tr style=\"text-align: right;\">\n",
       "      <th></th>\n",
       "      <th>german_army</th>\n",
       "      <th>allied_army</th>\n",
       "    </tr>\n",
       "  </thead>\n",
       "  <tbody>\n",
       "    <tr>\n",
       "      <th>2014-05-06</th>\n",
       "      <td>603561</td>\n",
       "      <td>671433</td>\n",
       "    </tr>\n",
       "    <tr>\n",
       "      <th>2014-05-07</th>\n",
       "      <td>587707</td>\n",
       "      <td>734801</td>\n",
       "    </tr>\n",
       "    <tr>\n",
       "      <th>2014-05-08</th>\n",
       "      <td>602719</td>\n",
       "      <td>716901</td>\n",
       "    </tr>\n",
       "    <tr>\n",
       "      <th>2014-05-09</th>\n",
       "      <td>603912</td>\n",
       "      <td>704034</td>\n",
       "    </tr>\n",
       "    <tr>\n",
       "      <th>2014-05-10</th>\n",
       "      <td>101730</td>\n",
       "      <td>115205</td>\n",
       "    </tr>\n",
       "  </tbody>\n",
       "</table>\n",
       "</div>"
      ],
      "text/plain": [
       "            german_army  allied_army\n",
       "2014-05-06       603561       671433\n",
       "2014-05-07       587707       734801\n",
       "2014-05-08       602719       716901\n",
       "2014-05-09       603912       704034\n",
       "2014-05-10       101730       115205"
      ]
     },
     "execution_count": 90,
     "metadata": {},
     "output_type": "execute_result"
    }
   ],
   "source": [
    "df.resample('D').sum()"
   ]
  },
  {
   "cell_type": "markdown",
   "metadata": {},
   "source": [
    "### Aggregate into days by averaging up the value of each hourly observation"
   ]
  },
  {
   "cell_type": "code",
   "execution_count": 91,
   "metadata": {},
   "outputs": [
    {
     "data": {
      "text/html": [
       "<div>\n",
       "<style scoped>\n",
       "    .dataframe tbody tr th:only-of-type {\n",
       "        vertical-align: middle;\n",
       "    }\n",
       "\n",
       "    .dataframe tbody tr th {\n",
       "        vertical-align: top;\n",
       "    }\n",
       "\n",
       "    .dataframe thead th {\n",
       "        text-align: right;\n",
       "    }\n",
       "</style>\n",
       "<table border=\"1\" class=\"dataframe\">\n",
       "  <thead>\n",
       "    <tr style=\"text-align: right;\">\n",
       "      <th></th>\n",
       "      <th>german_army</th>\n",
       "      <th>allied_army</th>\n",
       "    </tr>\n",
       "  </thead>\n",
       "  <tbody>\n",
       "    <tr>\n",
       "      <th>2014-05-06</th>\n",
       "      <td>25148.375000</td>\n",
       "      <td>27976.375000</td>\n",
       "    </tr>\n",
       "    <tr>\n",
       "      <th>2014-05-07</th>\n",
       "      <td>24487.791667</td>\n",
       "      <td>30616.708333</td>\n",
       "    </tr>\n",
       "    <tr>\n",
       "      <th>2014-05-08</th>\n",
       "      <td>25113.291667</td>\n",
       "      <td>29870.875000</td>\n",
       "    </tr>\n",
       "    <tr>\n",
       "      <th>2014-05-09</th>\n",
       "      <td>25163.000000</td>\n",
       "      <td>29334.750000</td>\n",
       "    </tr>\n",
       "    <tr>\n",
       "      <th>2014-05-10</th>\n",
       "      <td>25432.500000</td>\n",
       "      <td>28801.250000</td>\n",
       "    </tr>\n",
       "  </tbody>\n",
       "</table>\n",
       "</div>"
      ],
      "text/plain": [
       "             german_army   allied_army\n",
       "2014-05-06  25148.375000  27976.375000\n",
       "2014-05-07  24487.791667  30616.708333\n",
       "2014-05-08  25113.291667  29870.875000\n",
       "2014-05-09  25163.000000  29334.750000\n",
       "2014-05-10  25432.500000  28801.250000"
      ]
     },
     "execution_count": 91,
     "metadata": {},
     "output_type": "execute_result"
    }
   ],
   "source": [
    "df.resample('D').mean()"
   ]
  },
  {
   "cell_type": "markdown",
   "metadata": {},
   "source": [
    "### Aggregate into days by taking the min value up the value of each hourly observation"
   ]
  },
  {
   "cell_type": "code",
   "execution_count": 92,
   "metadata": {},
   "outputs": [
    {
     "data": {
      "text/html": [
       "<div>\n",
       "<style scoped>\n",
       "    .dataframe tbody tr th:only-of-type {\n",
       "        vertical-align: middle;\n",
       "    }\n",
       "\n",
       "    .dataframe tbody tr th {\n",
       "        vertical-align: top;\n",
       "    }\n",
       "\n",
       "    .dataframe thead th {\n",
       "        text-align: right;\n",
       "    }\n",
       "</style>\n",
       "<table border=\"1\" class=\"dataframe\">\n",
       "  <thead>\n",
       "    <tr style=\"text-align: right;\">\n",
       "      <th></th>\n",
       "      <th>german_army</th>\n",
       "      <th>allied_army</th>\n",
       "    </tr>\n",
       "  </thead>\n",
       "  <tbody>\n",
       "    <tr>\n",
       "      <th>2014-05-06</th>\n",
       "      <td>24499.0</td>\n",
       "      <td>25848.5</td>\n",
       "    </tr>\n",
       "    <tr>\n",
       "      <th>2014-05-07</th>\n",
       "      <td>24809.5</td>\n",
       "      <td>30386.5</td>\n",
       "    </tr>\n",
       "    <tr>\n",
       "      <th>2014-05-08</th>\n",
       "      <td>25317.5</td>\n",
       "      <td>27957.5</td>\n",
       "    </tr>\n",
       "    <tr>\n",
       "      <th>2014-05-09</th>\n",
       "      <td>24957.0</td>\n",
       "      <td>29870.0</td>\n",
       "    </tr>\n",
       "    <tr>\n",
       "      <th>2014-05-10</th>\n",
       "      <td>25519.0</td>\n",
       "      <td>28223.0</td>\n",
       "    </tr>\n",
       "  </tbody>\n",
       "</table>\n",
       "</div>"
      ],
      "text/plain": [
       "            german_army  allied_army\n",
       "2014-05-06      24499.0      25848.5\n",
       "2014-05-07      24809.5      30386.5\n",
       "2014-05-08      25317.5      27957.5\n",
       "2014-05-09      24957.0      29870.0\n",
       "2014-05-10      25519.0      28223.0"
      ]
     },
     "execution_count": 92,
     "metadata": {},
     "output_type": "execute_result"
    }
   ],
   "source": [
    "df.resample('D').median()"
   ]
  },
  {
   "cell_type": "markdown",
   "metadata": {},
   "source": [
    "### Aggregate into days by taking the median value of each day's worth of hourly observation"
   ]
  },
  {
   "cell_type": "code",
   "execution_count": 93,
   "metadata": {},
   "outputs": [
    {
     "data": {
      "text/html": [
       "<div>\n",
       "<style scoped>\n",
       "    .dataframe tbody tr th:only-of-type {\n",
       "        vertical-align: middle;\n",
       "    }\n",
       "\n",
       "    .dataframe tbody tr th {\n",
       "        vertical-align: top;\n",
       "    }\n",
       "\n",
       "    .dataframe thead th {\n",
       "        text-align: right;\n",
       "    }\n",
       "</style>\n",
       "<table border=\"1\" class=\"dataframe\">\n",
       "  <thead>\n",
       "    <tr style=\"text-align: right;\">\n",
       "      <th></th>\n",
       "      <th>german_army</th>\n",
       "      <th>allied_army</th>\n",
       "    </tr>\n",
       "  </thead>\n",
       "  <tbody>\n",
       "    <tr>\n",
       "      <th>2014-05-06</th>\n",
       "      <td>24499.0</td>\n",
       "      <td>25848.5</td>\n",
       "    </tr>\n",
       "    <tr>\n",
       "      <th>2014-05-07</th>\n",
       "      <td>24809.5</td>\n",
       "      <td>30386.5</td>\n",
       "    </tr>\n",
       "    <tr>\n",
       "      <th>2014-05-08</th>\n",
       "      <td>25317.5</td>\n",
       "      <td>27957.5</td>\n",
       "    </tr>\n",
       "    <tr>\n",
       "      <th>2014-05-09</th>\n",
       "      <td>24957.0</td>\n",
       "      <td>29870.0</td>\n",
       "    </tr>\n",
       "    <tr>\n",
       "      <th>2014-05-10</th>\n",
       "      <td>25519.0</td>\n",
       "      <td>28223.0</td>\n",
       "    </tr>\n",
       "  </tbody>\n",
       "</table>\n",
       "</div>"
      ],
      "text/plain": [
       "            german_army  allied_army\n",
       "2014-05-06      24499.0      25848.5\n",
       "2014-05-07      24809.5      30386.5\n",
       "2014-05-08      25317.5      27957.5\n",
       "2014-05-09      24957.0      29870.0\n",
       "2014-05-10      25519.0      28223.0"
      ]
     },
     "execution_count": 93,
     "metadata": {},
     "output_type": "execute_result"
    }
   ],
   "source": [
    "df.resample('D').median()"
   ]
  },
  {
   "cell_type": "markdown",
   "metadata": {},
   "source": [
    "### Aggregate into days by taking the first value of each day's worth of hourly observation"
   ]
  },
  {
   "cell_type": "code",
   "execution_count": 94,
   "metadata": {},
   "outputs": [
    {
     "data": {
      "text/html": [
       "<div>\n",
       "<style scoped>\n",
       "    .dataframe tbody tr th:only-of-type {\n",
       "        vertical-align: middle;\n",
       "    }\n",
       "\n",
       "    .dataframe tbody tr th {\n",
       "        vertical-align: top;\n",
       "    }\n",
       "\n",
       "    .dataframe thead th {\n",
       "        text-align: right;\n",
       "    }\n",
       "</style>\n",
       "<table border=\"1\" class=\"dataframe\">\n",
       "  <thead>\n",
       "    <tr style=\"text-align: right;\">\n",
       "      <th></th>\n",
       "      <th>german_army</th>\n",
       "      <th>allied_army</th>\n",
       "    </tr>\n",
       "  </thead>\n",
       "  <tbody>\n",
       "    <tr>\n",
       "      <th>2014-05-06</th>\n",
       "      <td>21676</td>\n",
       "      <td>21974</td>\n",
       "    </tr>\n",
       "    <tr>\n",
       "      <th>2014-05-07</th>\n",
       "      <td>25083</td>\n",
       "      <td>22089</td>\n",
       "    </tr>\n",
       "    <tr>\n",
       "      <th>2014-05-08</th>\n",
       "      <td>25200</td>\n",
       "      <td>33260</td>\n",
       "    </tr>\n",
       "    <tr>\n",
       "      <th>2014-05-09</th>\n",
       "      <td>27391</td>\n",
       "      <td>38805</td>\n",
       "    </tr>\n",
       "    <tr>\n",
       "      <th>2014-05-10</th>\n",
       "      <td>23947</td>\n",
       "      <td>21194</td>\n",
       "    </tr>\n",
       "  </tbody>\n",
       "</table>\n",
       "</div>"
      ],
      "text/plain": [
       "            german_army  allied_army\n",
       "2014-05-06        21676        21974\n",
       "2014-05-07        25083        22089\n",
       "2014-05-08        25200        33260\n",
       "2014-05-09        27391        38805\n",
       "2014-05-10        23947        21194"
      ]
     },
     "execution_count": 94,
     "metadata": {},
     "output_type": "execute_result"
    }
   ],
   "source": [
    "df.resample('D').first()"
   ]
  },
  {
   "cell_type": "markdown",
   "metadata": {},
   "source": [
    "### Aggregate into days by taking the last value of each day's worth of hourly observation"
   ]
  },
  {
   "cell_type": "code",
   "execution_count": 95,
   "metadata": {},
   "outputs": [
    {
     "data": {
      "text/html": [
       "<div>\n",
       "<style scoped>\n",
       "    .dataframe tbody tr th:only-of-type {\n",
       "        vertical-align: middle;\n",
       "    }\n",
       "\n",
       "    .dataframe tbody tr th {\n",
       "        vertical-align: top;\n",
       "    }\n",
       "\n",
       "    .dataframe thead th {\n",
       "        text-align: right;\n",
       "    }\n",
       "</style>\n",
       "<table border=\"1\" class=\"dataframe\">\n",
       "  <thead>\n",
       "    <tr style=\"text-align: right;\">\n",
       "      <th></th>\n",
       "      <th>german_army</th>\n",
       "      <th>allied_army</th>\n",
       "    </tr>\n",
       "  </thead>\n",
       "  <tbody>\n",
       "    <tr>\n",
       "      <th>2014-05-06</th>\n",
       "      <td>24822</td>\n",
       "      <td>22852</td>\n",
       "    </tr>\n",
       "    <tr>\n",
       "      <th>2014-05-07</th>\n",
       "      <td>22520</td>\n",
       "      <td>33413</td>\n",
       "    </tr>\n",
       "    <tr>\n",
       "      <th>2014-05-08</th>\n",
       "      <td>23963</td>\n",
       "      <td>39108</td>\n",
       "    </tr>\n",
       "    <tr>\n",
       "      <th>2014-05-09</th>\n",
       "      <td>29741</td>\n",
       "      <td>25634</td>\n",
       "    </tr>\n",
       "    <tr>\n",
       "      <th>2014-05-10</th>\n",
       "      <td>27888</td>\n",
       "      <td>28022</td>\n",
       "    </tr>\n",
       "  </tbody>\n",
       "</table>\n",
       "</div>"
      ],
      "text/plain": [
       "            german_army  allied_army\n",
       "2014-05-06        24822        22852\n",
       "2014-05-07        22520        33413\n",
       "2014-05-08        23963        39108\n",
       "2014-05-09        29741        25634\n",
       "2014-05-10        27888        28022"
      ]
     },
     "execution_count": 95,
     "metadata": {},
     "output_type": "execute_result"
    }
   ],
   "source": [
    "df.resample('D').last()"
   ]
  },
  {
   "cell_type": "markdown",
   "metadata": {},
   "source": [
    "### Aggregate into days by taking the first, last, highest, and lowest value of each day's worth of hourly observation"
   ]
  },
  {
   "cell_type": "code",
   "execution_count": 96,
   "metadata": {},
   "outputs": [
    {
     "data": {
      "text/html": [
       "<div>\n",
       "<style scoped>\n",
       "    .dataframe tbody tr th:only-of-type {\n",
       "        vertical-align: middle;\n",
       "    }\n",
       "\n",
       "    .dataframe tbody tr th {\n",
       "        vertical-align: top;\n",
       "    }\n",
       "\n",
       "    .dataframe thead tr th {\n",
       "        text-align: left;\n",
       "    }\n",
       "</style>\n",
       "<table border=\"1\" class=\"dataframe\">\n",
       "  <thead>\n",
       "    <tr>\n",
       "      <th></th>\n",
       "      <th colspan=\"4\" halign=\"left\">german_army</th>\n",
       "      <th colspan=\"4\" halign=\"left\">allied_army</th>\n",
       "    </tr>\n",
       "    <tr>\n",
       "      <th></th>\n",
       "      <th>open</th>\n",
       "      <th>high</th>\n",
       "      <th>low</th>\n",
       "      <th>close</th>\n",
       "      <th>open</th>\n",
       "      <th>high</th>\n",
       "      <th>low</th>\n",
       "      <th>close</th>\n",
       "    </tr>\n",
       "  </thead>\n",
       "  <tbody>\n",
       "    <tr>\n",
       "      <th>2014-05-06</th>\n",
       "      <td>21676</td>\n",
       "      <td>29855</td>\n",
       "      <td>20205</td>\n",
       "      <td>24822</td>\n",
       "      <td>21974</td>\n",
       "      <td>37722</td>\n",
       "      <td>21140</td>\n",
       "      <td>22852</td>\n",
       "    </tr>\n",
       "    <tr>\n",
       "      <th>2014-05-07</th>\n",
       "      <td>25083</td>\n",
       "      <td>29456</td>\n",
       "      <td>20257</td>\n",
       "      <td>22520</td>\n",
       "      <td>22089</td>\n",
       "      <td>39260</td>\n",
       "      <td>20634</td>\n",
       "      <td>33413</td>\n",
       "    </tr>\n",
       "    <tr>\n",
       "      <th>2014-05-08</th>\n",
       "      <td>25200</td>\n",
       "      <td>29679</td>\n",
       "      <td>20100</td>\n",
       "      <td>23963</td>\n",
       "      <td>33260</td>\n",
       "      <td>39108</td>\n",
       "      <td>20545</td>\n",
       "      <td>39108</td>\n",
       "    </tr>\n",
       "    <tr>\n",
       "      <th>2014-05-09</th>\n",
       "      <td>27391</td>\n",
       "      <td>29741</td>\n",
       "      <td>20162</td>\n",
       "      <td>29741</td>\n",
       "      <td>38805</td>\n",
       "      <td>39297</td>\n",
       "      <td>20558</td>\n",
       "      <td>25634</td>\n",
       "    </tr>\n",
       "    <tr>\n",
       "      <th>2014-05-10</th>\n",
       "      <td>23947</td>\n",
       "      <td>27888</td>\n",
       "      <td>22804</td>\n",
       "      <td>27888</td>\n",
       "      <td>21194</td>\n",
       "      <td>37565</td>\n",
       "      <td>21194</td>\n",
       "      <td>28022</td>\n",
       "    </tr>\n",
       "  </tbody>\n",
       "</table>\n",
       "</div>"
      ],
      "text/plain": [
       "           german_army                      allied_army                     \n",
       "                  open   high    low  close        open   high    low  close\n",
       "2014-05-06       21676  29855  20205  24822       21974  37722  21140  22852\n",
       "2014-05-07       25083  29456  20257  22520       22089  39260  20634  33413\n",
       "2014-05-08       25200  29679  20100  23963       33260  39108  20545  39108\n",
       "2014-05-09       27391  29741  20162  29741       38805  39297  20558  25634\n",
       "2014-05-10       23947  27888  22804  27888       21194  37565  21194  28022"
      ]
     },
     "execution_count": 96,
     "metadata": {},
     "output_type": "execute_result"
    }
   ],
   "source": [
    "df.resample('D').ohlc()"
   ]
  }
 ],
 "metadata": {
  "kernelspec": {
   "display_name": "Python 3",
   "language": "python",
   "name": "python3"
  },
  "language_info": {
   "codemirror_mode": {
    "name": "ipython",
    "version": 3
   },
   "file_extension": ".py",
   "mimetype": "text/x-python",
   "name": "python",
   "nbconvert_exporter": "python",
   "pygments_lexer": "ipython3",
   "version": "3.6.6"
  }
 },
 "nbformat": 4,
 "nbformat_minor": 1
}
