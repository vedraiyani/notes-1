{
 "cells": [
  {
   "cell_type": "raw",
   "metadata": {},
   "source": [
    "---\n",
    "title: \"Construct A Dictionary From Multiple Lists\"\n",
    "author: \"Chris Albon\"\n",
    "date: 2017-12-20T11:53:49-07:00\n",
    "description: \"Construct a dictionary from multiple lists in Python.\"\n",
    "type: technical_note\n",
    "draft: false\n",
    "aliases:\n",
    "    - /python/construct_a_dictionary_from_multiple_lists_python.html\n",
    "---"
   ]
  },
  {
   "cell_type": "markdown",
   "metadata": {},
   "source": [
    "## Create Two Lists"
   ]
  },
  {
   "cell_type": "code",
   "execution_count": 1,
   "metadata": {
    "collapsed": true
   },
   "outputs": [],
   "source": [
    "# Create a list of theofficer's name\n",
    "officer_names = ['Sodoni Dogla', 'Chris Jefferson', 'Jessica Billars', 'Michael Mulligan', 'Steven Johnson']\n",
    "\n",
    "# Create a list of the officer's army\n",
    "officer_armies = ['Purple Army', 'Orange Army', 'Green Army', 'Red Army', 'Blue Army']"
   ]
  },
  {
   "cell_type": "markdown",
   "metadata": {},
   "source": [
    "## Construct A Dictionary From The Two Lists"
   ]
  },
  {
   "cell_type": "code",
   "execution_count": 2,
   "metadata": {},
   "outputs": [
    {
     "data": {
      "text/plain": [
       "{'Chris Jefferson': 'Orange Army',\n",
       " 'Jessica Billars': 'Green Army',\n",
       " 'Michael Mulligan': 'Red Army',\n",
       " 'Sodoni Dogla': 'Purple Army',\n",
       " 'Steven Johnson': 'Blue Army'}"
      ]
     },
     "execution_count": 2,
     "metadata": {},
     "output_type": "execute_result"
    }
   ],
   "source": [
    "# Create a dictionary that is the zip of the two lists\n",
    "dict(zip(officer_names, officer_armies))"
   ]
  }
 ],
 "metadata": {
  "anaconda-cloud": {},
  "kernelspec": {
   "display_name": "Python 3",
   "language": "python",
   "name": "python3"
  },
  "language_info": {
   "codemirror_mode": {
    "name": "ipython",
    "version": 3
   },
   "file_extension": ".py",
   "mimetype": "text/x-python",
   "name": "python",
   "nbconvert_exporter": "python",
   "pygments_lexer": "ipython3",
   "version": "3.6.6"
  }
 },
 "nbformat": 4,
 "nbformat_minor": 1
}
