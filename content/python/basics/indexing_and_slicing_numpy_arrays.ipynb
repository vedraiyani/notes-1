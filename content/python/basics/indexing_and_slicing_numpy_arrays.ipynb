{
 "cells": [
  {
   "cell_type": "raw",
   "metadata": {},
   "source": [
    "---\n",
    "title: \"Indexing And Slicing NumPy Arrays\"\n",
    "author: \"Chris Albon\"\n",
    "date: 2017-12-20T11:53:49-07:00\n",
    "description: \"Indexing and slicing NumPy arrays in Python.\"\n",
    "type: technical_note\n",
    "draft: false\n",
    "---"
   ]
  },
  {
   "cell_type": "markdown",
   "metadata": {},
   "source": [
    "## Slicing Arrays"
   ]
  },
  {
   "cell_type": "markdown",
   "metadata": {},
   "source": [
    "### Explanation Of Broadcasting"
   ]
  },
  {
   "cell_type": "markdown",
   "metadata": {},
   "source": [
    "Unlike many other data types, slicing an array into a new variable means that any chances to that new variable are broadcasted to the original variable. Put other way, a slice is a hotlink to the original array variable, not a seperate and independent copy of it."
   ]
  },
  {
   "cell_type": "code",
   "execution_count": 4,
   "metadata": {},
   "outputs": [],
   "source": [
    "# Import Modules\n",
    "import numpy as np"
   ]
  },
  {
   "cell_type": "code",
   "execution_count": 5,
   "metadata": {},
   "outputs": [],
   "source": [
    "# Create an array of battle casualties from the first to the last battle\n",
    "battleDeaths = np.array([1245, 2732, 3853, 4824, 5292, 6184, 7282, 81393, 932, 10834])"
   ]
  },
  {
   "cell_type": "code",
   "execution_count": 6,
   "metadata": {},
   "outputs": [
    {
     "name": "stdout",
     "output_type": "stream",
     "text": [
      "Death from battles at the start of war: [1245 2732 3853]\n",
      "Death from battles at the middle of war: [4824 5292 6184 7282]\n",
      "Death from battles at the end of war: [81393   932 10834]\n"
     ]
    }
   ],
   "source": [
    "# Divide the array of battle deaths into start, middle, and end of the war\n",
    "warStart = battleDeaths[0:3]; print('Death from battles at the start of war:', warStart)\n",
    "warMiddle = battleDeaths[3:7]; print('Death from battles at the middle of war:', warMiddle)\n",
    "warEnd = battleDeaths[7:10]; print('Death from battles at the end of war:', warEnd)"
   ]
  },
  {
   "cell_type": "code",
   "execution_count": 7,
   "metadata": {},
   "outputs": [],
   "source": [
    "# Change the battle death numbers from the first battle\n",
    "warStart[0] = 11101"
   ]
  },
  {
   "cell_type": "code",
   "execution_count": 8,
   "metadata": {},
   "outputs": [
    {
     "data": {
      "text/plain": [
       "array([11101,  2732,  3853])"
      ]
     },
     "execution_count": 8,
     "metadata": {},
     "output_type": "execute_result"
    }
   ],
   "source": [
    "# View that change reflected in the warStart slice of the battleDeaths array\n",
    "warStart"
   ]
  },
  {
   "cell_type": "code",
   "execution_count": 9,
   "metadata": {},
   "outputs": [
    {
     "data": {
      "text/plain": [
       "array([11101,  2732,  3853,  4824,  5292,  6184,  7282, 81393,   932,\n",
       "       10834])"
      ]
     },
     "execution_count": 9,
     "metadata": {},
     "output_type": "execute_result"
    }
   ],
   "source": [
    "# View that change reflected in (i.e. \"broadcasted to) the original battleDeaths array\n",
    "battleDeaths"
   ]
  },
  {
   "cell_type": "markdown",
   "metadata": {},
   "source": [
    "## Indexing Arrays"
   ]
  },
  {
   "cell_type": "markdown",
   "metadata": {},
   "source": [
    "Note: This multidimensional array behaves like a dataframe or matrix (i.e. columns and rows)"
   ]
  },
  {
   "cell_type": "code",
   "execution_count": 17,
   "metadata": {},
   "outputs": [
    {
     "data": {
      "text/plain": [
       "array([['Nighthawks', 'Sky Warriors', 'Rough Riders', 'New Birds'],\n",
       "       ['1', '2', '3', '4'],\n",
       "       ['1092', '2039', '3011', '4099'],\n",
       "       ['Mitchell', 'Blackthorn', 'Baker', 'Miller']], dtype='<U12')"
      ]
     },
     "execution_count": 17,
     "metadata": {},
     "output_type": "execute_result"
    }
   ],
   "source": [
    "# Create an array of regiment information\n",
    "regimentNames = ['Nighthawks', 'Sky Warriors', 'Rough Riders', 'New Birds']\n",
    "regimentNumber = [1, 2, 3, 4]\n",
    "regimentSize = [1092, 2039, 3011, 4099]\n",
    "regimentCommander = ['Mitchell', 'Blackthorn', 'Baker', 'Miller']\n",
    "\n",
    "regiments = np.array([regimentNames, regimentNumber, regimentSize, regimentCommander])\n",
    "regiments"
   ]
  },
  {
   "cell_type": "code",
   "execution_count": 11,
   "metadata": {},
   "outputs": [
    {
     "data": {
      "text/plain": [
       "array(['Nighthawks', '1', '1092', 'Mitchell'], dtype='<U12')"
      ]
     },
     "execution_count": 11,
     "metadata": {},
     "output_type": "execute_result"
    }
   ],
   "source": [
    "# View the first column of the matrix\n",
    "regiments[:,0]"
   ]
  },
  {
   "cell_type": "code",
   "execution_count": 12,
   "metadata": {},
   "outputs": [
    {
     "data": {
      "text/plain": [
       "array(['1', '2', '3', '4'], dtype='<U12')"
      ]
     },
     "execution_count": 12,
     "metadata": {},
     "output_type": "execute_result"
    }
   ],
   "source": [
    "# View the second row of the matrix\n",
    "regiments[1,]"
   ]
  },
  {
   "cell_type": "code",
   "execution_count": 13,
   "metadata": {},
   "outputs": [
    {
     "data": {
      "text/plain": [
       "array([['Rough Riders', 'New Birds'],\n",
       "       ['3', '4']], dtype='<U12')"
      ]
     },
     "execution_count": 13,
     "metadata": {},
     "output_type": "execute_result"
    }
   ],
   "source": [
    "# View the top-right quarter of the matrix\n",
    "regiments[:2,2:]"
   ]
  }
 ],
 "metadata": {
  "kernelspec": {
   "display_name": "Python 3",
   "language": "python",
   "name": "python3"
  },
  "language_info": {
   "codemirror_mode": {
    "name": "ipython",
    "version": 3
   },
   "file_extension": ".py",
   "mimetype": "text/x-python",
   "name": "python",
   "nbconvert_exporter": "python",
   "pygments_lexer": "ipython3",
   "version": "3.6.6"
  }
 },
 "nbformat": 4,
 "nbformat_minor": 1
}
